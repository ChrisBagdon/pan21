{
 "cells": [
  {
   "cell_type": "code",
   "execution_count": 1,
   "metadata": {
    "collapsed": true
   },
   "outputs": [],
   "source": [
    "import glob\n",
    "import os\n",
    "import pickle\n",
    "\n",
    "from nltk import TweetTokenizer, metrics\n",
    "from sklearn.compose import ColumnTransformer\n",
    "from sklearn.feature_extraction.text import TfidfVectorizer\n",
    "from sklearn.linear_model import LogisticRegression\n",
    "from sklearn.pipeline import Pipeline\n",
    "from sklearn.svm import LinearSVC\n",
    "\n",
    "import utils\n",
    "import wandb\n",
    "%load_ext autoreload\n",
    "%autoreload 2\n",
    "from utils import read_data_into_DFs, data_for_bert, get_results, create_df, create_df_bert\n",
    "import numpy as np\n",
    "import pandas as pd\n",
    "import sklearn\n",
    "import torch\n",
    "import logging\n",
    "from simpletransformers.classification import ClassificationModel, ClassificationArgs\n",
    "\n",
    "from sklearn.datasets import make_blobs\n",
    "from sklearn.model_selection import RepeatedStratifiedKFold\n",
    "from sklearn.model_selection import GridSearchCV\n",
    "from xml.etree import ElementTree\n"
   ]
  },
  {
   "cell_type": "code",
   "execution_count": 8,
   "outputs": [
    {
     "name": "stdout",
     "output_type": "stream",
     "text": [
      "en/7610534fcf5bf40d6e4b4073f2b980b4.xml\n",
      "en/b897c69b28b6e80bd4d3fdaf4512e945.xml\n",
      "en/e8141313febb028ea3c9912f89fcd6b4.xml\n",
      "en/0d2c0d6880388acbb2efc910c6a7dba2.xml\n",
      "en/e69115769bae2a02953934dc9c30ae05.xml\n",
      "en/1946bfa3e2adc568cfdb5480bdf5829d.xml\n",
      "en/061a343a9faec7d73cedd1aedc59b07c.xml\n",
      "en/fdd27881da241cff7115c1e89caba6dd.xml\n",
      "en/b8b56ee954ec519d2beb62e5583f6501.xml\n",
      "en/3ec0653c7389121735613e3247a8ab6f.xml\n",
      "en/9946abb814f66c4206d0aefab2e88f69.xml\n",
      "en/05e1527e1d7210f6da3a90d4c7e53dd7.xml\n",
      "en/ab8e5fd81fbce9ccf42465e2c5e619f0.xml\n",
      "en/3348345aac7462125d72b02c3a19fe3d.xml\n",
      "en/ff40a5a10d32a42946701e7965bf73e3.xml\n",
      "en/7eca71debd2030ba16d5849a51110df7.xml\n",
      "en/ab14ad85f29db248a46654fe4bfc2cef.xml\n",
      "en/e291bd05ee5636bea526fdba1a6aee0c.xml\n",
      "en/f6dbb398364073aa25cd1aab159a6e71.xml\n",
      "en/07275a64a6a197f348253cd98bf6ddc5.xml\n",
      "en/20f4b6fd3cf0e111f6dc244a7cbef7ce.xml\n",
      "en/35dad41e25a45dcf6d7e3dd905dd0914.xml\n",
      "en/ba89cd8519b88f7859e7fe117246fb8f.xml\n",
      "en/876d4f0b18ba27bd45769d7de16fdb3b.xml\n",
      "en/25b6920ba3dcfabffd201908b1da59a4.xml\n",
      "en/9e3ff0a4de7cc2c77e696341dfa66ca5.xml\n",
      "en/f2973063f16c0698a6de86c55b5f9ad6.xml\n",
      "en/066627d636e5aef4ece3077b1ad3b4d4.xml\n",
      "en/e4fac0f5f2708d2c326c8e85d4b17d0b.xml\n",
      "en/6adae25d708e0344fc84fea0c5907f75.xml\n",
      "en/c424d3823ea10bb059849217c50b1a96.xml\n",
      "en/3cb15f3f9210854e9b37acec3227742c.xml\n",
      "en/8886f7672a830a0b5a0ff0913338b9d5.xml\n",
      "en/059628dc5dc8b19d2a263766b6ca7622.xml\n",
      "en/e47d39b70d677ee02624a42f428811a8.xml\n",
      "en/69f39a45a0d82e84a34029cfdf873d5f.xml\n",
      "en/71aeac91316151e5c0ddd0fadf96bfb7.xml\n",
      "en/47281f2d023ef30fac5d756ab98f6489.xml\n",
      "en/19bc6ea5778d9522cb8a604d4a63e590.xml\n",
      "en/569ecaa72e07b2c81468e52d2c450756.xml\n",
      "en/314d4bf068314367bc83dc5ae3757e13.xml\n",
      "en/59906feef5409c0cbfad05969c12b959.xml\n",
      "en/e00d9db0a878e24f49b22c5fff537a58.xml\n",
      "en/5ae45806800bbc1c378793eca6af14c9.xml\n",
      "en/6838d5b68f5e6d0aab4c492de5002614.xml\n",
      "en/4f5870e6ba8f64b63afeda65ef3c8063.xml\n",
      "en/2f3cc3548bb713d94d1521fa745dd043.xml\n",
      "en/fc81416f247846c8727d4a149b7151b4.xml\n",
      "en/576699bcc461d3dd6a164ee62c34a2b6.xml\n",
      "en/93d00a337a35892918af0cc278077705.xml\n",
      "en/14c19eb78928560a39963b0d3c7b6730.xml\n",
      "en/ef065a8c4f5866c8a0a24ee7b74cc44a.xml\n",
      "en/6a31281c75103db644fc0c330dc966ba.xml\n",
      "en/534ad05610bfda9f9b3662aed132da4e.xml\n",
      "en/c66cf85170be8954bb5b6dc123668fd7.xml\n",
      "en/f8ce309d9002bb0c31d04ebbbf21df5e.xml\n",
      "en/1a8645085de63f453413015479de2094.xml\n",
      "en/09b28c655303ec3e9d188e684b9aa223.xml\n",
      "en/1f4c04378192c0bb26578e53afec0514.xml\n",
      "en/31b146da0cb255f9f134b2597e21401d.xml\n",
      "en/6121514142ddef4c8ebf4f8a77122d04.xml\n",
      "en/be71e41921653e523aceb555727b61c7.xml\n",
      "en/9a0f50b29ca551c2dfdc31dec91d38af.xml\n",
      "en/8703370634ae14767f06ea12267e25ab.xml\n",
      "en/17e3dfe1537daffff9bc1bcefd4ce92f.xml\n",
      "en/f8e9b6073d2fcbf9d2de3df07c62d86e.xml\n",
      "en/45ee3f1a19debe5ebfab04cdec11f7f8.xml\n",
      "en/6b593eaee15e416cf5d5afed09c7d029.xml\n",
      "en/b8883e4867f7adb0321b11f3241cd708.xml\n",
      "en/e433f39a6291cddc05b07d6a8efaa12b.xml\n",
      "en/8c707a78ae30d703e0e94ce3e8efd84b.xml\n",
      "en/5724d92d5cd1a777db48f68e679a94ca.xml\n",
      "en/3bfce2890c9716b2a9a68cf9daef9acd.xml\n",
      "en/36ae4a2413580829537653a16e0d480f.xml\n",
      "en/9e7d8b7b36c2dbca979ba2eca0d8d110.xml\n",
      "en/dbad8b2ea2a44d8a503e6c8afe937cdf.xml\n",
      "en/dbcb2f9a069bd686b58161ddaa5529ce.xml\n",
      "en/5f57628b5bddcbf35fec6cbca21da8ef.xml\n",
      "en/a5cf666c375e8b583360da960136796f.xml\n",
      "en/d8610f1a62b23eb93335604b73ada01c.xml\n",
      "en/d0235c3e74f79298fc2b6d2427c2060b.xml\n",
      "en/ed47e83208995121ef69c686aa16ba1c.xml\n",
      "en/4f51f7ce52aa416a7fbce6c6bc407ec7.xml\n",
      "en/8e785d3cef887ca5f5a308edbb466519.xml\n",
      "en/41f61a56460401a87f88098a1a771cb8.xml\n",
      "en/033b741821a47b223952d00ad3a96e1e.xml\n",
      "en/3db9f1096ad57fc1e12fc5a618724d2c.xml\n",
      "en/872107cb1c922f0420f7c60d0f3f5c82.xml\n",
      "en/03ef536dad2f429dde26114bf382ac53.xml\n",
      "en/49b2850b60784dd6de6817c2a4c56851.xml\n",
      "en/aa99683b43eacda232d2967d42300e86.xml\n",
      "en/b4cb7d747d13f6de69c2c445bf69b6bc.xml\n",
      "en/6ee20a888eeddbc4b8104664e0e76cd9.xml\n",
      "en/8b46f62667ec355d99f12f91eb5c1fb1.xml\n"
     ]
    },
    {
     "ename": "ParseError",
     "evalue": "not well-formed (invalid token): line 65, column 47 (<string>)",
     "output_type": "error",
     "traceback": [
      "Traceback \u001B[0;36m(most recent call last)\u001B[0m:\n",
      "  File \u001B[1;32m\"/home/lolai/.cache/pypoetry/virtualenvs/pan21-A-Dx1lG7-py3.8/lib/python3.8/site-packages/IPython/core/interactiveshell.py\"\u001B[0m, line \u001B[1;32m3437\u001B[0m, in \u001B[1;35mrun_code\u001B[0m\n    exec(code_obj, self.user_global_ns, self.user_ns)\n",
      "  File \u001B[1;32m\"<ipython-input-8-d51b62a3f9e0>\"\u001B[0m, line \u001B[1;32m3\u001B[0m, in \u001B[1;35m<module>\u001B[0m\n    DFs = read_data_into_DFs(folder)\n",
      "  File \u001B[1;32m\"/home/lolai/Documents/Uni/PAN21/pan21/utils.py\"\u001B[0m, line \u001B[1;32m52\u001B[0m, in \u001B[1;35mread_data_into_DFs\u001B[0m\n    xtree = ET.parse(xml)\n",
      "  File \u001B[1;32m\"/usr/lib/python3.8/xml/etree/ElementTree.py\"\u001B[0m, line \u001B[1;32m1202\u001B[0m, in \u001B[1;35mparse\u001B[0m\n    tree.parse(source, parser)\n",
      "\u001B[0;36m  File \u001B[0;32m\"/usr/lib/python3.8/xml/etree/ElementTree.py\"\u001B[0;36m, line \u001B[0;32m595\u001B[0;36m, in \u001B[0;35mparse\u001B[0;36m\u001B[0m\n\u001B[0;31m    self._root = parser._parse_whole(source)\u001B[0m\n",
      "\u001B[0;36m  File \u001B[0;32m\"<string>\"\u001B[0;36m, line \u001B[0;32munknown\u001B[0m\n\u001B[0;31mParseError\u001B[0m\u001B[0;31m:\u001B[0m not well-formed (invalid token): line 65, column 47\n"
     ]
    }
   ],
   "source": [
    "cwd = os.getcwd()\n",
    "folder = \"../pan21-author-profiling-training-2021-03-14\"\n",
    "DFs = read_data_into_DFs(folder)\n",
    "os.chdir(cwd)"
   ],
   "metadata": {
    "collapsed": false,
    "pycharm": {
     "name": "#%%\n"
    }
   }
  },
  {
   "cell_type": "code",
   "execution_count": 3,
   "outputs": [
    {
     "ename": "ParseError",
     "evalue": "not well-formed (invalid token): line 65, column 47 (<string>)",
     "output_type": "error",
     "traceback": [
      "Traceback \u001B[0;36m(most recent call last)\u001B[0m:\n",
      "  File \u001B[1;32m\"/home/lolai/.cache/pypoetry/virtualenvs/pan21-A-Dx1lG7-py3.8/lib/python3.8/site-packages/IPython/core/interactiveshell.py\"\u001B[0m, line \u001B[1;32m3437\u001B[0m, in \u001B[1;35mrun_code\u001B[0m\n    exec(code_obj, self.user_global_ns, self.user_ns)\n",
      "  File \u001B[1;32m\"<ipython-input-3-55b9d97361f9>\"\u001B[0m, line \u001B[1;32m20\u001B[0m, in \u001B[1;35m<module>\u001B[0m\n    df[\"tweet\"] = df[\"author_id\"].apply(_read_xml)\n",
      "  File \u001B[1;32m\"/home/lolai/.cache/pypoetry/virtualenvs/pan21-A-Dx1lG7-py3.8/lib/python3.8/site-packages/pandas/core/series.py\"\u001B[0m, line \u001B[1;32m4138\u001B[0m, in \u001B[1;35mapply\u001B[0m\n    mapped = lib.map_infer(values, f, convert=convert_dtype)\n",
      "  File \u001B[1;32m\"pandas/_libs/lib.pyx\"\u001B[0m, line \u001B[1;32m2467\u001B[0m, in \u001B[1;35mpandas._libs.lib.map_infer\u001B[0m\n",
      "  File \u001B[1;32m\"<ipython-input-3-55b9d97361f9>\"\u001B[0m, line \u001B[1;32m5\u001B[0m, in \u001B[1;35m_read_xml\u001B[0m\n    tree = ElementTree.parse(\n",
      "  File \u001B[1;32m\"/usr/lib/python3.8/xml/etree/ElementTree.py\"\u001B[0m, line \u001B[1;32m1202\u001B[0m, in \u001B[1;35mparse\u001B[0m\n    tree.parse(source, parser)\n",
      "\u001B[0;36m  File \u001B[0;32m\"/usr/lib/python3.8/xml/etree/ElementTree.py\"\u001B[0;36m, line \u001B[0;32m601\u001B[0;36m, in \u001B[0;35mparse\u001B[0;36m\u001B[0m\n\u001B[0;31m    parser.feed(data)\u001B[0m\n",
      "\u001B[0;36m  File \u001B[0;32m\"<string>\"\u001B[0;36m, line \u001B[0;32munknown\u001B[0m\n\u001B[0;31mParseError\u001B[0m\u001B[0;31m:\u001B[0m not well-formed (invalid token): line 65, column 47\n"
     ]
    }
   ],
   "source": [
    "xmls_directory = \"../../pan21-author-profiling-test-without-gold-for-participants/es\"\n",
    "def _read_xml(author_id):\n",
    "    tweets = []\n",
    "    xml_filename = \"{}.xml\".format(author_id)\n",
    "    tree = ElementTree.parse(\n",
    "        os.path.join(xmls_directory, xml_filename),\n",
    "        parser=ElementTree.XMLParser(encoding=\"utf-8\"),\n",
    "    )\n",
    "    root = tree.getroot()\n",
    "    for child in root[0]:\n",
    "        tweets.append(child.text)\n",
    "    return \" \".join(tweets)\n",
    "\n",
    "\n",
    "files = glob.glob(\"{}/*.xml\".format(xmls_directory))\n",
    "author_ids = list(\n",
    "    map(lambda x: os.path.splitext(os.path.basename(x))[0], files))\n",
    "df = pd.DataFrame({\"author_id\": author_ids})\n",
    "\n",
    "df[\"tweet\"] = df[\"author_id\"].apply(_read_xml)"
   ],
   "metadata": {
    "collapsed": false,
    "pycharm": {
     "name": "#%%\n"
    }
   }
  },
  {
   "cell_type": "code",
   "execution_count": 6,
   "outputs": [],
   "source": [
    "fold = [DFs[0][:20], DFs[0][20:40], DFs[0][40:60], DFs[0][60:80], DFs[0][80:100],\n",
    "        DFs[0][100:120], DFs[0][120:140], DFs[0][140:160], DFs[0][160:180], DFs[0][180:200]]"
   ],
   "metadata": {
    "collapsed": false,
    "pycharm": {
     "name": "#%%\n"
    }
   }
  },
  {
   "cell_type": "code",
   "execution_count": 10,
   "outputs": [],
   "source": [
    "train = []\n",
    "dev = []\n",
    "for i, testi in enumerate(fold):\n",
    "    train.append(fold[:i]+fold[i+1:])\n",
    "    dev.append(testi)"
   ],
   "metadata": {
    "collapsed": false,
    "pycharm": {
     "name": "#%%\n"
    }
   }
  },
  {
   "cell_type": "code",
   "execution_count": 13,
   "outputs": [],
   "source": [
    "for x in range(10):\n",
    "    DF = train[x][0]\n",
    "    for i, group in enumerate(train[x]):\n",
    "        if i == 0:\n",
    "            continue\n",
    "        DF = pd.concat([DF, group], axis=0)\n",
    "    DF = pd.concat([DF, dev[x]])"
   ],
   "metadata": {
    "collapsed": false,
    "pycharm": {
     "name": "#%%\n"
    }
   }
  },
  {
   "cell_type": "code",
   "execution_count": 3,
   "outputs": [],
   "source": [
    "train_df1, eval_df1 = data_for_bert(DFs[1])\n",
    "\n",
    "\n",
    "\n",
    "logging.basicConfig(level=logging.INFO)\n",
    "transformers_logger = logging.getLogger(\"transformers\")\n",
    "transformers_logger.setLevel(logging.WARNING)\n",
    "\n",
    "model_args = ClassificationArgs()\n",
    "model_args.num_train_epochs = 50\n",
    "model_args.reprocess_input_data = True\n",
    "model_args.overwrite_output_dir = True\n",
    "model_args.evaluate_during_training = True\n",
    "model_args.manual_seed = 4\n",
    "model_args.use_multiprocessing = True\n",
    "model_args.train_batch_size = 16\n",
    "model_args.eval_batch_size = 8\n",
    "model_args.labels_list = [0, 1]\n",
    "model_args.learning_rate = 5.245514797925528e-05\n",
    "model_args.wandb_project = \"Sweep Results\"\n",
    "model_args.use_early_stopping = True\n",
    "model_args.early_stopping_delta = 0.001\n",
    "model_args.early_stopping_metric = \"mcc\"\n",
    "model_args.early_stopping_metric_minimize = False\n",
    "model_args.early_stopping_patience = 5\n",
    "model_args.evaluate_during_training_steps = 30\n",
    "model_args.evaluate_during_training_verbose = True\n",
    "#5.202081638426634e-05"
   ],
   "metadata": {
    "collapsed": false,
    "pycharm": {
     "name": "#%%\n"
    }
   }
  },
  {
   "cell_type": "code",
   "execution_count": 5,
   "outputs": [
    {
     "data": {
      "text/plain": "                           0               1\n0            adafactor_beta1            None\n1   adafactor_clip_threshold             1.0\n2       adafactor_decay_rate            -0.8\n3              adafactor_eps  (1e-30, 0.001)\n4    adafactor_relative_step            True\n..                       ...             ...\n88              wandb_kwargs              {}\n89             wandb_project   Sweep Results\n90              warmup_ratio            0.06\n91              warmup_steps               0\n92              weight_decay             0.0\n\n[93 rows x 2 columns]",
      "text/html": "<div>\n<style scoped>\n    .dataframe tbody tr th:only-of-type {\n        vertical-align: middle;\n    }\n\n    .dataframe tbody tr th {\n        vertical-align: top;\n    }\n\n    .dataframe thead th {\n        text-align: right;\n    }\n</style>\n<table border=\"1\" class=\"dataframe\">\n  <thead>\n    <tr style=\"text-align: right;\">\n      <th></th>\n      <th>0</th>\n      <th>1</th>\n    </tr>\n  </thead>\n  <tbody>\n    <tr>\n      <th>0</th>\n      <td>adafactor_beta1</td>\n      <td>None</td>\n    </tr>\n    <tr>\n      <th>1</th>\n      <td>adafactor_clip_threshold</td>\n      <td>1.0</td>\n    </tr>\n    <tr>\n      <th>2</th>\n      <td>adafactor_decay_rate</td>\n      <td>-0.8</td>\n    </tr>\n    <tr>\n      <th>3</th>\n      <td>adafactor_eps</td>\n      <td>(1e-30, 0.001)</td>\n    </tr>\n    <tr>\n      <th>4</th>\n      <td>adafactor_relative_step</td>\n      <td>True</td>\n    </tr>\n    <tr>\n      <th>...</th>\n      <td>...</td>\n      <td>...</td>\n    </tr>\n    <tr>\n      <th>88</th>\n      <td>wandb_kwargs</td>\n      <td>{}</td>\n    </tr>\n    <tr>\n      <th>89</th>\n      <td>wandb_project</td>\n      <td>Sweep Results</td>\n    </tr>\n    <tr>\n      <th>90</th>\n      <td>warmup_ratio</td>\n      <td>0.06</td>\n    </tr>\n    <tr>\n      <th>91</th>\n      <td>warmup_steps</td>\n      <td>0</td>\n    </tr>\n    <tr>\n      <th>92</th>\n      <td>weight_decay</td>\n      <td>0.0</td>\n    </tr>\n  </tbody>\n</table>\n<p>93 rows × 2 columns</p>\n</div>"
     },
     "execution_count": 5,
     "metadata": {},
     "output_type": "execute_result"
    }
   ],
   "source": [
    "arg_values = []\n",
    "\n",
    "pd.set_option('display.max_rows', 80)\n",
    "\n",
    "# For all of the arguments...\n",
    "\"\"\"for arg in dir(model.args):\n",
    "\n",
    "    # Skip over the special attributes and any functions.\n",
    "    if (not arg[0:2] == '__') and (not callable(getattr(model.args, arg))):\n",
    "\n",
    "        # Store the argument and its value as a tuple.\n",
    "        arg_values.append((arg, str(getattr(model.args, arg))))\n",
    "\n",
    "# Store as a dataframe just to get the pretty printout.\n",
    "df_args = pd.DataFrame(arg_values)\n",
    "\n",
    "df_args\"\"\""
   ],
   "metadata": {
    "collapsed": false,
    "pycharm": {
     "name": "#%%\n"
    }
   }
  },
  {
   "cell_type": "code",
   "execution_count": 3,
   "outputs": [],
   "source": [
    "vec_params = {\n",
    "        \"word_range\": (1, 2),\n",
    "        \"word_min\": 0.05,\n",
    "        \"word_max\": 0.85,\n",
    "        \"char_range\": (1, 6),\n",
    "        \"char_min\": 0.001,\n",
    "        \"char_max\": 1.0}\n",
    "params_en = {\n",
    "        \"C\": 22458.78034,\n",
    "        \"class_weight\": \"balanced\",\n",
    "        \"intercept_scaling\": 0.877,\n",
    "        \"loss\": \"hinge\",\n",
    "        \"max_iter\": 2000,\n",
    "        \"random_state\": 42,\n",
    "        \"tol\": 0.00014376187,\n",
    "    }"
   ],
   "metadata": {
    "collapsed": false,
    "pycharm": {
     "name": "#%%\n"
    }
   }
  },
  {
   "cell_type": "code",
   "execution_count": 6,
   "outputs": [],
   "source": [
    "#Spanish\n",
    "vec_params = {\n",
    "        \"word_range\": (1, 2),\n",
    "        \"word_min\": 0.05,\n",
    "        \"word_max\": 0.85,\n",
    "        \"char_range\": (1, 6),\n",
    "        \"char_min\": 0.001,\n",
    "        \"char_max\": 1.0}\n",
    "X_train, X_dev, Y_train, Y_dev = create_df(DFs[1], prepro=True)\n",
    "X = pd.concat([X_train, X_dev], ignore_index=True)\n",
    "Y = pd.concat([Y_train, Y_dev], ignore_index=True)"
   ],
   "metadata": {
    "collapsed": false,
    "pycharm": {
     "name": "#%%\n"
    }
   }
  },
  {
   "cell_type": "code",
   "execution_count": 7,
   "outputs": [],
   "source": [
    "word_Tfidf_vec = TfidfVectorizer(analyzer='word',\n",
    "                                         tokenizer=TweetTokenizer().tokenize,\n",
    "                                         ngram_range=vec_params['word_range'],\n",
    "                                         min_df=vec_params['word_min'], max_df=vec_params[\"word_max\"],\n",
    "                                         use_idf=True,\n",
    "                                         sublinear_tf=True)\n",
    "char_Tfidf_vec = TfidfVectorizer(analyzer='char',\n",
    "                                 tokenizer=TweetTokenizer().tokenize,\n",
    "                                 ngram_range=vec_params['char_range'],\n",
    "                                 min_df=vec_params['char_min'], max_df=vec_params[\"char_max\"],\n",
    "                                 use_idf=True,\n",
    "                                 sublinear_tf=True)\n",
    "\n",
    "column_transformer = ColumnTransformer(\n",
    "    [('tfidf_word', word_Tfidf_vec, 'concat_1'),\n",
    "     ('tfidf_char', char_Tfidf_vec, 'concat_2')],\n",
    "    remainder='passthrough')\n",
    "X = column_transformer.fit_transform(X)"
   ],
   "metadata": {
    "collapsed": false,
    "pycharm": {
     "name": "#%%\n"
    }
   }
  },
  {
   "cell_type": "code",
   "execution_count": 9,
   "outputs": [
    {
     "name": "stdout",
     "output_type": "stream",
     "text": [
      "Best: 0.795000 using {'C': 22000, 'class_weight': 'balanced', 'intercept_scaling': 0.01, 'loss': 'hinge', 'max_iter': 2000, 'tol': 0.1}\n",
      "0.791667 (0.084738) with: {'C': 22000, 'class_weight': 'balanced', 'intercept_scaling': 0.1, 'loss': 'squared_hinge', 'max_iter': 2000, 'tol': 0.1}\n",
      "0.790000 (0.085049) with: {'C': 22000, 'class_weight': 'balanced', 'intercept_scaling': 0.1, 'loss': 'squared_hinge', 'max_iter': 2000, 'tol': 0.0001437}\n",
      "0.793333 (0.084393) with: {'C': 22000, 'class_weight': 'balanced', 'intercept_scaling': 0.1, 'loss': 'hinge', 'max_iter': 2000, 'tol': 0.1}\n",
      "0.790000 (0.085049) with: {'C': 22000, 'class_weight': 'balanced', 'intercept_scaling': 0.1, 'loss': 'hinge', 'max_iter': 2000, 'tol': 0.0001437}\n",
      "0.793333 (0.084393) with: {'C': 22000, 'class_weight': 'balanced', 'intercept_scaling': 0.01, 'loss': 'squared_hinge', 'max_iter': 2000, 'tol': 0.1}\n",
      "0.791667 (0.084738) with: {'C': 22000, 'class_weight': 'balanced', 'intercept_scaling': 0.01, 'loss': 'squared_hinge', 'max_iter': 2000, 'tol': 0.0001437}\n",
      "0.795000 (0.085975) with: {'C': 22000, 'class_weight': 'balanced', 'intercept_scaling': 0.01, 'loss': 'hinge', 'max_iter': 2000, 'tol': 0.1}\n",
      "0.791667 (0.084738) with: {'C': 22000, 'class_weight': 'balanced', 'intercept_scaling': 0.01, 'loss': 'hinge', 'max_iter': 2000, 'tol': 0.0001437}\n"
     ]
    }
   ],
   "source": [
    "model = LinearSVC()\n",
    "class_weight = [\"balanced\"]\n",
    "intercept_scaling= [0.1, 0.01]\n",
    "loss = [\"squared_hinge\", \"hinge\"]\n",
    "max_iter = [2000]\n",
    "tol = [0.1, 0.0001437]\n",
    "C = [22000]\n",
    "# define grid search\n",
    "grid = dict(C=C, class_weight=class_weight, intercept_scaling=intercept_scaling,\n",
    "            loss=loss, max_iter=max_iter, tol=tol)\n",
    "cv = RepeatedStratifiedKFold(n_splits=10, n_repeats=3, random_state=1)\n",
    "grid_search = GridSearchCV(estimator=model, param_grid=grid, n_jobs=-1, cv=cv, scoring='accuracy',error_score=0)\n",
    "grid_result = grid_search.fit(X, Y)\n",
    "# summarize results\n",
    "print(\"Best: %f using %s\" % (grid_result.best_score_, grid_result.best_params_))\n",
    "means = grid_result.cv_results_['mean_test_score']\n",
    "stds = grid_result.cv_results_['std_test_score']\n",
    "params = grid_result.cv_results_['params']\n",
    "for mean, stdev, param in zip(means, stds, params):\n",
    "    print(\"%f (%f) with: %r\" % (mean, stdev, param))\n"
   ],
   "metadata": {
    "collapsed": false,
    "pycharm": {
     "name": "#%%\n"
    }
   }
  },
  {
   "cell_type": "code",
   "execution_count": 3,
   "outputs": [],
   "source": [
    "#English\n",
    "vec_params2 = {\n",
    "        \"word_range\": (1, 2),\n",
    "        \"word_min\": 0.05,\n",
    "        \"word_max\": 0.85,\n",
    "        \"char_range\": (1, 6),\n",
    "        \"char_min\": 0.001,\n",
    "        \"char_max\": 1.0}\n",
    "X_train2, X_dev2, Y_train2, Y_dev2 = create_df(DFs[0], prepro=True)\n",
    "X2 = pd.concat([X_train2, X_dev2], ignore_index=True)\n",
    "Y2 = pd.concat([Y_train2, Y_dev2], ignore_index=True)"
   ],
   "metadata": {
    "collapsed": false,
    "pycharm": {
     "name": "#%%\n"
    }
   }
  },
  {
   "cell_type": "code",
   "execution_count": 4,
   "outputs": [],
   "source": [
    "word_Tfidf_vec2 = TfidfVectorizer(analyzer='word',\n",
    "                                         tokenizer=TweetTokenizer().tokenize,\n",
    "                                         ngram_range=vec_params2['word_range'],\n",
    "                                         min_df=vec_params2['word_min'], max_df=vec_params2[\"word_max\"],\n",
    "                                         use_idf=True,\n",
    "                                         sublinear_tf=True)\n",
    "char_Tfidf_vec2 = TfidfVectorizer(analyzer='char',\n",
    "                                 tokenizer=TweetTokenizer().tokenize,\n",
    "                                 ngram_range=vec_params2['char_range'],\n",
    "                                 min_df=vec_params2['char_min'], max_df=vec_params2[\"char_max\"],\n",
    "                                 use_idf=True,\n",
    "                                 sublinear_tf=True)\n",
    "\n",
    "column_transformer2 = ColumnTransformer(\n",
    "    [('tfidf_word', word_Tfidf_vec2, 'concat_1'),\n",
    "     ('tfidf_char', char_Tfidf_vec2, 'concat_2')],\n",
    "    remainder='passthrough')\n",
    "X2 = column_transformer2.fit_transform(X2)"
   ],
   "metadata": {
    "collapsed": false,
    "pycharm": {
     "name": "#%%\n"
    }
   }
  },
  {
   "cell_type": "code",
   "execution_count": 5,
   "outputs": [
    {
     "name": "stdout",
     "output_type": "stream",
     "text": [
      "Best: 0.656667 using {'C': 22000, 'class_weight': 'balanced', 'intercept_scaling': 0.877, 'max_iter': 2000, 'tol': 0.1}\n",
      "0.641667 (0.118380) with: {'C': 110000, 'class_weight': 'balanced', 'intercept_scaling': 0.1, 'max_iter': 2000, 'tol': 1e-05}\n",
      "0.636667 (0.121747) with: {'C': 110000, 'class_weight': 'balanced', 'intercept_scaling': 0.1, 'max_iter': 2000, 'tol': 0.1}\n",
      "0.641667 (0.118380) with: {'C': 110000, 'class_weight': 'balanced', 'intercept_scaling': 0.1, 'max_iter': 2000, 'tol': 0.00014376187}\n",
      "0.641667 (0.120474) with: {'C': 110000, 'class_weight': 'balanced', 'intercept_scaling': 0.877, 'max_iter': 2000, 'tol': 1e-05}\n",
      "0.646667 (0.116857) with: {'C': 110000, 'class_weight': 'balanced', 'intercept_scaling': 0.877, 'max_iter': 2000, 'tol': 0.1}\n",
      "0.641667 (0.120474) with: {'C': 110000, 'class_weight': 'balanced', 'intercept_scaling': 0.877, 'max_iter': 2000, 'tol': 0.00014376187}\n",
      "0.641667 (0.118380) with: {'C': 22000, 'class_weight': 'balanced', 'intercept_scaling': 0.1, 'max_iter': 2000, 'tol': 1e-05}\n",
      "0.638333 (0.118098) with: {'C': 22000, 'class_weight': 'balanced', 'intercept_scaling': 0.1, 'max_iter': 2000, 'tol': 0.1}\n",
      "0.641667 (0.118380) with: {'C': 22000, 'class_weight': 'balanced', 'intercept_scaling': 0.1, 'max_iter': 2000, 'tol': 0.00014376187}\n",
      "0.641667 (0.120474) with: {'C': 22000, 'class_weight': 'balanced', 'intercept_scaling': 0.877, 'max_iter': 2000, 'tol': 1e-05}\n",
      "0.656667 (0.115998) with: {'C': 22000, 'class_weight': 'balanced', 'intercept_scaling': 0.877, 'max_iter': 2000, 'tol': 0.1}\n",
      "0.641667 (0.120474) with: {'C': 22000, 'class_weight': 'balanced', 'intercept_scaling': 0.877, 'max_iter': 2000, 'tol': 0.00014376187}\n",
      "0.641667 (0.118380) with: {'C': 100000, 'class_weight': 'balanced', 'intercept_scaling': 0.1, 'max_iter': 2000, 'tol': 1e-05}\n",
      "0.645000 (0.121347) with: {'C': 100000, 'class_weight': 'balanced', 'intercept_scaling': 0.1, 'max_iter': 2000, 'tol': 0.1}\n",
      "0.641667 (0.118380) with: {'C': 100000, 'class_weight': 'balanced', 'intercept_scaling': 0.1, 'max_iter': 2000, 'tol': 0.00014376187}\n",
      "0.641667 (0.120474) with: {'C': 100000, 'class_weight': 'balanced', 'intercept_scaling': 0.877, 'max_iter': 2000, 'tol': 1e-05}\n",
      "0.648333 (0.118662) with: {'C': 100000, 'class_weight': 'balanced', 'intercept_scaling': 0.877, 'max_iter': 2000, 'tol': 0.1}\n",
      "0.641667 (0.120474) with: {'C': 100000, 'class_weight': 'balanced', 'intercept_scaling': 0.877, 'max_iter': 2000, 'tol': 0.00014376187}\n"
     ]
    }
   ],
   "source": [
    "#https://machinelearningmastery.com/hyperparameters-for-classification-machine-learning-algorithms/\n",
    "model = LinearSVC()\n",
    "class_weight = [\"balanced\"]\n",
    "intercept_scaling= [0.1, 0.877]\n",
    "loss = [\"hinge\"]\n",
    "max_iter = [2000]\n",
    "tol = [0.00001, 0.1, 0.00014376187]\n",
    "C = [110000, 22000, 100000]\n",
    "# define grid search\n",
    "grid = dict(C=C, class_weight=class_weight, intercept_scaling=intercept_scaling,\n",
    "            max_iter=max_iter, tol=tol)\n",
    "cv = RepeatedStratifiedKFold(n_splits=10, n_repeats=3, random_state=1)\n",
    "grid_search = GridSearchCV(estimator=model, param_grid=grid, n_jobs=-1, cv=cv, scoring='accuracy',error_score=0)\n",
    "grid_result = grid_search.fit(X2, Y2)\n",
    "# summarize results\n",
    "print(\"Best: %f using %s\" % (grid_result.best_score_, grid_result.best_params_))\n",
    "means = grid_result.cv_results_['mean_test_score']\n",
    "stds = grid_result.cv_results_['std_test_score']\n",
    "params = grid_result.cv_results_['params']\n",
    "for mean, stdev, param in zip(means, stds, params):\n",
    "    print(\"%f (%f) with: %r\" % (mean, stdev, param))"
   ],
   "metadata": {
    "collapsed": false,
    "pycharm": {
     "name": "#%%\n"
    }
   }
  },
  {
   "cell_type": "code",
   "execution_count": 5,
   "outputs": [],
   "source": [
    "#English\n",
    "vec_params2 = {\n",
    "        \"word_range\": (1, 2),\n",
    "        \"word_min\": 0.1,\n",
    "        \"word_max\": 1.0,\n",
    "        \"char_range\": (2, 6),\n",
    "        \"char_min\": 0.05,\n",
    "        \"char_max\": 0.75}\n",
    "#Spanish\n",
    "vec_params2 = {\n",
    "        \"word_range\": (1, 2),\n",
    "        \"word_min\": 0.05,\n",
    "        \"word_max\": 0.85,\n",
    "        \"char_range\": (1, 6),\n",
    "        \"char_min\": 0.001,\n",
    "        \"char_max\": 1.0}"
   ],
   "metadata": {
    "collapsed": false,
    "pycharm": {
     "name": "#%%\n"
    }
   }
  },
  {
   "cell_type": "code",
   "execution_count": 3,
   "outputs": [
    {
     "data": {
      "text/plain": "  0%|          | 0/200 [00:00<?, ?it/s]",
      "application/vnd.jupyter.widget-view+json": {
       "version_major": 2,
       "version_minor": 0,
       "model_id": "02522dde70ee4fa287b0e6b499df5c88"
      }
     },
     "metadata": {},
     "output_type": "display_data"
    },
    {
     "name": "stderr",
     "output_type": "stream",
     "text": [
      "Token indices sequence length is longer than the specified maximum sequence length for this model (3074 > 512). Running this sequence through the model will result in indexing errors\n"
     ]
    },
    {
     "data": {
      "text/plain": "  0%|          | 0/1049 [00:00<?, ?it/s]",
      "application/vnd.jupyter.widget-view+json": {
       "version_major": 2,
       "version_minor": 0,
       "model_id": "4841f8f246b6487bbfc94779279b3e36"
      }
     },
     "metadata": {},
     "output_type": "display_data"
    }
   ],
   "source": [
    "text_for_bert_en = data_for_bert(DFs[1], train=False)\n",
    "berts_opinion_en = utils.get_berts_opinion(text_for_bert_en, \"models/bert/es/checkpoint-396-epoch-2\")"
   ],
   "metadata": {
    "collapsed": false,
    "pycharm": {
     "name": "#%%\n"
    }
   }
  },
  {
   "cell_type": "code",
   "execution_count": 6,
   "outputs": [],
   "source": [
    "X_train2, X_dev2, Y_train2, Y_dev2 = create_df_bert(DFs[1], berts_opinion_en, prepro=True)\n",
    "X2 = pd.concat([X_train2, X_dev2], ignore_index=True)\n",
    "Y2 = pd.concat([Y_train2, Y_dev2], ignore_index=True)"
   ],
   "metadata": {
    "collapsed": false,
    "pycharm": {
     "name": "#%%\n"
    }
   }
  },
  {
   "cell_type": "code",
   "execution_count": 7,
   "outputs": [],
   "source": [
    "word_Tfidf_vec2 = TfidfVectorizer(analyzer='word',\n",
    "                                         tokenizer=TweetTokenizer().tokenize,\n",
    "                                         ngram_range=vec_params2['word_range'],\n",
    "                                         min_df=vec_params2['word_min'], max_df=vec_params2[\"word_max\"],\n",
    "                                         use_idf=True,\n",
    "                                         sublinear_tf=True)\n",
    "char_Tfidf_vec2 = TfidfVectorizer(analyzer='char',\n",
    "                                 tokenizer=TweetTokenizer().tokenize,\n",
    "                                 ngram_range=vec_params2['char_range'],\n",
    "                                 min_df=vec_params2['char_min'], max_df=vec_params2[\"char_max\"],\n",
    "                                 use_idf=True,\n",
    "                                 sublinear_tf=True)\n",
    "\n",
    "column_transformer2 = ColumnTransformer(\n",
    "    [('tfidf_word', word_Tfidf_vec2, 'concat_1'),\n",
    "     ('tfidf_char', char_Tfidf_vec2, 'concat_2')],\n",
    "    remainder='passthrough')\n",
    "X2 = column_transformer2.fit_transform(X2)"
   ],
   "metadata": {
    "collapsed": false,
    "pycharm": {
     "name": "#%%\n"
    }
   }
  },
  {
   "cell_type": "code",
   "execution_count": 9,
   "outputs": [
    {
     "name": "stdout",
     "output_type": "stream",
     "text": [
      "Best: 0.960000 using {'C': 0.35, 'class_weight': None, 'intercept_scaling': 0.1, 'loss': 'squared_hinge', 'max_iter': 2000, 'tol': 0.1}\n",
      "0.960000 (0.032660) with: {'C': 0.35, 'class_weight': None, 'intercept_scaling': 0.1, 'loss': 'squared_hinge', 'max_iter': 2000, 'tol': 0.1}\n",
      "0.960000 (0.032660) with: {'C': 0.35, 'class_weight': None, 'intercept_scaling': 0.1, 'loss': 'squared_hinge', 'max_iter': 2000, 'tol': 0.0001}\n",
      "0.960000 (0.032660) with: {'C': 0.35, 'class_weight': None, 'intercept_scaling': 0.1, 'loss': 'squared_hinge', 'max_iter': 2000, 'tol': 0.00014376187}\n",
      "0.960000 (0.032660) with: {'C': 0.35, 'class_weight': None, 'intercept_scaling': 0.1, 'loss': 'squared_hinge', 'max_iter': 2000, 'tol': 1.7355634213475965e-05}\n",
      "0.960000 (0.032660) with: {'C': 0.35, 'class_weight': None, 'intercept_scaling': 0.1, 'loss': 'hinge', 'max_iter': 2000, 'tol': 0.1}\n",
      "0.960000 (0.032660) with: {'C': 0.35, 'class_weight': None, 'intercept_scaling': 0.1, 'loss': 'hinge', 'max_iter': 2000, 'tol': 0.0001}\n",
      "0.960000 (0.032660) with: {'C': 0.35, 'class_weight': None, 'intercept_scaling': 0.1, 'loss': 'hinge', 'max_iter': 2000, 'tol': 0.00014376187}\n",
      "0.960000 (0.032660) with: {'C': 0.35, 'class_weight': None, 'intercept_scaling': 0.1, 'loss': 'hinge', 'max_iter': 2000, 'tol': 1.7355634213475965e-05}\n",
      "0.960000 (0.032660) with: {'C': 0.35, 'class_weight': None, 'intercept_scaling': 0.01, 'loss': 'squared_hinge', 'max_iter': 2000, 'tol': 0.1}\n",
      "0.960000 (0.032660) with: {'C': 0.35, 'class_weight': None, 'intercept_scaling': 0.01, 'loss': 'squared_hinge', 'max_iter': 2000, 'tol': 0.0001}\n",
      "0.960000 (0.032660) with: {'C': 0.35, 'class_weight': None, 'intercept_scaling': 0.01, 'loss': 'squared_hinge', 'max_iter': 2000, 'tol': 0.00014376187}\n",
      "0.960000 (0.032660) with: {'C': 0.35, 'class_weight': None, 'intercept_scaling': 0.01, 'loss': 'squared_hinge', 'max_iter': 2000, 'tol': 1.7355634213475965e-05}\n",
      "0.960000 (0.032660) with: {'C': 0.35, 'class_weight': None, 'intercept_scaling': 0.01, 'loss': 'hinge', 'max_iter': 2000, 'tol': 0.1}\n",
      "0.960000 (0.032660) with: {'C': 0.35, 'class_weight': None, 'intercept_scaling': 0.01, 'loss': 'hinge', 'max_iter': 2000, 'tol': 0.0001}\n",
      "0.960000 (0.032660) with: {'C': 0.35, 'class_weight': None, 'intercept_scaling': 0.01, 'loss': 'hinge', 'max_iter': 2000, 'tol': 0.00014376187}\n",
      "0.960000 (0.032660) with: {'C': 0.35, 'class_weight': None, 'intercept_scaling': 0.01, 'loss': 'hinge', 'max_iter': 2000, 'tol': 1.7355634213475965e-05}\n",
      "0.960000 (0.032660) with: {'C': 0.35, 'class_weight': None, 'intercept_scaling': 1, 'loss': 'squared_hinge', 'max_iter': 2000, 'tol': 0.1}\n",
      "0.960000 (0.032660) with: {'C': 0.35, 'class_weight': None, 'intercept_scaling': 1, 'loss': 'squared_hinge', 'max_iter': 2000, 'tol': 0.0001}\n",
      "0.960000 (0.032660) with: {'C': 0.35, 'class_weight': None, 'intercept_scaling': 1, 'loss': 'squared_hinge', 'max_iter': 2000, 'tol': 0.00014376187}\n",
      "0.960000 (0.032660) with: {'C': 0.35, 'class_weight': None, 'intercept_scaling': 1, 'loss': 'squared_hinge', 'max_iter': 2000, 'tol': 1.7355634213475965e-05}\n",
      "0.958333 (0.034359) with: {'C': 0.35, 'class_weight': None, 'intercept_scaling': 1, 'loss': 'hinge', 'max_iter': 2000, 'tol': 0.1}\n",
      "0.960000 (0.032660) with: {'C': 0.35, 'class_weight': None, 'intercept_scaling': 1, 'loss': 'hinge', 'max_iter': 2000, 'tol': 0.0001}\n",
      "0.960000 (0.032660) with: {'C': 0.35, 'class_weight': None, 'intercept_scaling': 1, 'loss': 'hinge', 'max_iter': 2000, 'tol': 0.00014376187}\n",
      "0.960000 (0.032660) with: {'C': 0.35, 'class_weight': None, 'intercept_scaling': 1, 'loss': 'hinge', 'max_iter': 2000, 'tol': 1.7355634213475965e-05}\n",
      "0.960000 (0.032660) with: {'C': 0.35, 'class_weight': None, 'intercept_scaling': 5, 'loss': 'squared_hinge', 'max_iter': 2000, 'tol': 0.1}\n",
      "0.960000 (0.032660) with: {'C': 0.35, 'class_weight': None, 'intercept_scaling': 5, 'loss': 'squared_hinge', 'max_iter': 2000, 'tol': 0.0001}\n",
      "0.960000 (0.032660) with: {'C': 0.35, 'class_weight': None, 'intercept_scaling': 5, 'loss': 'squared_hinge', 'max_iter': 2000, 'tol': 0.00014376187}\n",
      "0.960000 (0.032660) with: {'C': 0.35, 'class_weight': None, 'intercept_scaling': 5, 'loss': 'squared_hinge', 'max_iter': 2000, 'tol': 1.7355634213475965e-05}\n",
      "0.958333 (0.034359) with: {'C': 0.35, 'class_weight': None, 'intercept_scaling': 5, 'loss': 'hinge', 'max_iter': 2000, 'tol': 0.1}\n",
      "0.958333 (0.034359) with: {'C': 0.35, 'class_weight': None, 'intercept_scaling': 5, 'loss': 'hinge', 'max_iter': 2000, 'tol': 0.0001}\n",
      "0.958333 (0.034359) with: {'C': 0.35, 'class_weight': None, 'intercept_scaling': 5, 'loss': 'hinge', 'max_iter': 2000, 'tol': 0.00014376187}\n",
      "0.958333 (0.034359) with: {'C': 0.35, 'class_weight': None, 'intercept_scaling': 5, 'loss': 'hinge', 'max_iter': 2000, 'tol': 1.7355634213475965e-05}\n",
      "0.960000 (0.032660) with: {'C': 200000, 'class_weight': None, 'intercept_scaling': 0.1, 'loss': 'squared_hinge', 'max_iter': 2000, 'tol': 0.1}\n",
      "0.960000 (0.032660) with: {'C': 200000, 'class_weight': None, 'intercept_scaling': 0.1, 'loss': 'squared_hinge', 'max_iter': 2000, 'tol': 0.0001}\n",
      "0.960000 (0.032660) with: {'C': 200000, 'class_weight': None, 'intercept_scaling': 0.1, 'loss': 'squared_hinge', 'max_iter': 2000, 'tol': 0.00014376187}\n",
      "0.960000 (0.032660) with: {'C': 200000, 'class_weight': None, 'intercept_scaling': 0.1, 'loss': 'squared_hinge', 'max_iter': 2000, 'tol': 1.7355634213475965e-05}\n",
      "0.960000 (0.032660) with: {'C': 200000, 'class_weight': None, 'intercept_scaling': 0.1, 'loss': 'hinge', 'max_iter': 2000, 'tol': 0.1}\n",
      "0.960000 (0.032660) with: {'C': 200000, 'class_weight': None, 'intercept_scaling': 0.1, 'loss': 'hinge', 'max_iter': 2000, 'tol': 0.0001}\n",
      "0.960000 (0.032660) with: {'C': 200000, 'class_weight': None, 'intercept_scaling': 0.1, 'loss': 'hinge', 'max_iter': 2000, 'tol': 0.00014376187}\n",
      "0.960000 (0.032660) with: {'C': 200000, 'class_weight': None, 'intercept_scaling': 0.1, 'loss': 'hinge', 'max_iter': 2000, 'tol': 1.7355634213475965e-05}\n",
      "0.960000 (0.032660) with: {'C': 200000, 'class_weight': None, 'intercept_scaling': 0.01, 'loss': 'squared_hinge', 'max_iter': 2000, 'tol': 0.1}\n",
      "0.960000 (0.032660) with: {'C': 200000, 'class_weight': None, 'intercept_scaling': 0.01, 'loss': 'squared_hinge', 'max_iter': 2000, 'tol': 0.0001}\n",
      "0.960000 (0.032660) with: {'C': 200000, 'class_weight': None, 'intercept_scaling': 0.01, 'loss': 'squared_hinge', 'max_iter': 2000, 'tol': 0.00014376187}\n",
      "0.960000 (0.032660) with: {'C': 200000, 'class_weight': None, 'intercept_scaling': 0.01, 'loss': 'squared_hinge', 'max_iter': 2000, 'tol': 1.7355634213475965e-05}\n",
      "0.960000 (0.032660) with: {'C': 200000, 'class_weight': None, 'intercept_scaling': 0.01, 'loss': 'hinge', 'max_iter': 2000, 'tol': 0.1}\n",
      "0.960000 (0.032660) with: {'C': 200000, 'class_weight': None, 'intercept_scaling': 0.01, 'loss': 'hinge', 'max_iter': 2000, 'tol': 0.0001}\n",
      "0.960000 (0.032660) with: {'C': 200000, 'class_weight': None, 'intercept_scaling': 0.01, 'loss': 'hinge', 'max_iter': 2000, 'tol': 0.00014376187}\n",
      "0.960000 (0.032660) with: {'C': 200000, 'class_weight': None, 'intercept_scaling': 0.01, 'loss': 'hinge', 'max_iter': 2000, 'tol': 1.7355634213475965e-05}\n",
      "0.960000 (0.032660) with: {'C': 200000, 'class_weight': None, 'intercept_scaling': 1, 'loss': 'squared_hinge', 'max_iter': 2000, 'tol': 0.1}\n",
      "0.960000 (0.032660) with: {'C': 200000, 'class_weight': None, 'intercept_scaling': 1, 'loss': 'squared_hinge', 'max_iter': 2000, 'tol': 0.0001}\n",
      "0.960000 (0.032660) with: {'C': 200000, 'class_weight': None, 'intercept_scaling': 1, 'loss': 'squared_hinge', 'max_iter': 2000, 'tol': 0.00014376187}\n",
      "0.960000 (0.032660) with: {'C': 200000, 'class_weight': None, 'intercept_scaling': 1, 'loss': 'squared_hinge', 'max_iter': 2000, 'tol': 1.7355634213475965e-05}\n",
      "0.960000 (0.032660) with: {'C': 200000, 'class_weight': None, 'intercept_scaling': 1, 'loss': 'hinge', 'max_iter': 2000, 'tol': 0.1}\n",
      "0.960000 (0.032660) with: {'C': 200000, 'class_weight': None, 'intercept_scaling': 1, 'loss': 'hinge', 'max_iter': 2000, 'tol': 0.0001}\n",
      "0.960000 (0.032660) with: {'C': 200000, 'class_weight': None, 'intercept_scaling': 1, 'loss': 'hinge', 'max_iter': 2000, 'tol': 0.00014376187}\n",
      "0.960000 (0.032660) with: {'C': 200000, 'class_weight': None, 'intercept_scaling': 1, 'loss': 'hinge', 'max_iter': 2000, 'tol': 1.7355634213475965e-05}\n",
      "0.960000 (0.032660) with: {'C': 200000, 'class_weight': None, 'intercept_scaling': 5, 'loss': 'squared_hinge', 'max_iter': 2000, 'tol': 0.1}\n",
      "0.960000 (0.032660) with: {'C': 200000, 'class_weight': None, 'intercept_scaling': 5, 'loss': 'squared_hinge', 'max_iter': 2000, 'tol': 0.0001}\n",
      "0.960000 (0.032660) with: {'C': 200000, 'class_weight': None, 'intercept_scaling': 5, 'loss': 'squared_hinge', 'max_iter': 2000, 'tol': 0.00014376187}\n",
      "0.960000 (0.032660) with: {'C': 200000, 'class_weight': None, 'intercept_scaling': 5, 'loss': 'squared_hinge', 'max_iter': 2000, 'tol': 1.7355634213475965e-05}\n",
      "0.960000 (0.032660) with: {'C': 200000, 'class_weight': None, 'intercept_scaling': 5, 'loss': 'hinge', 'max_iter': 2000, 'tol': 0.1}\n",
      "0.960000 (0.032660) with: {'C': 200000, 'class_weight': None, 'intercept_scaling': 5, 'loss': 'hinge', 'max_iter': 2000, 'tol': 0.0001}\n",
      "0.960000 (0.032660) with: {'C': 200000, 'class_weight': None, 'intercept_scaling': 5, 'loss': 'hinge', 'max_iter': 2000, 'tol': 0.00014376187}\n",
      "0.960000 (0.032660) with: {'C': 200000, 'class_weight': None, 'intercept_scaling': 5, 'loss': 'hinge', 'max_iter': 2000, 'tol': 1.7355634213475965e-05}\n",
      "0.960000 (0.032660) with: {'C': 5000, 'class_weight': None, 'intercept_scaling': 0.1, 'loss': 'squared_hinge', 'max_iter': 2000, 'tol': 0.1}\n",
      "0.960000 (0.032660) with: {'C': 5000, 'class_weight': None, 'intercept_scaling': 0.1, 'loss': 'squared_hinge', 'max_iter': 2000, 'tol': 0.0001}\n",
      "0.960000 (0.032660) with: {'C': 5000, 'class_weight': None, 'intercept_scaling': 0.1, 'loss': 'squared_hinge', 'max_iter': 2000, 'tol': 0.00014376187}\n",
      "0.960000 (0.032660) with: {'C': 5000, 'class_weight': None, 'intercept_scaling': 0.1, 'loss': 'squared_hinge', 'max_iter': 2000, 'tol': 1.7355634213475965e-05}\n",
      "0.960000 (0.032660) with: {'C': 5000, 'class_weight': None, 'intercept_scaling': 0.1, 'loss': 'hinge', 'max_iter': 2000, 'tol': 0.1}\n",
      "0.960000 (0.032660) with: {'C': 5000, 'class_weight': None, 'intercept_scaling': 0.1, 'loss': 'hinge', 'max_iter': 2000, 'tol': 0.0001}\n",
      "0.960000 (0.032660) with: {'C': 5000, 'class_weight': None, 'intercept_scaling': 0.1, 'loss': 'hinge', 'max_iter': 2000, 'tol': 0.00014376187}\n",
      "0.960000 (0.032660) with: {'C': 5000, 'class_weight': None, 'intercept_scaling': 0.1, 'loss': 'hinge', 'max_iter': 2000, 'tol': 1.7355634213475965e-05}\n",
      "0.960000 (0.032660) with: {'C': 5000, 'class_weight': None, 'intercept_scaling': 0.01, 'loss': 'squared_hinge', 'max_iter': 2000, 'tol': 0.1}\n",
      "0.960000 (0.032660) with: {'C': 5000, 'class_weight': None, 'intercept_scaling': 0.01, 'loss': 'squared_hinge', 'max_iter': 2000, 'tol': 0.0001}\n",
      "0.960000 (0.032660) with: {'C': 5000, 'class_weight': None, 'intercept_scaling': 0.01, 'loss': 'squared_hinge', 'max_iter': 2000, 'tol': 0.00014376187}\n",
      "0.960000 (0.032660) with: {'C': 5000, 'class_weight': None, 'intercept_scaling': 0.01, 'loss': 'squared_hinge', 'max_iter': 2000, 'tol': 1.7355634213475965e-05}\n",
      "0.960000 (0.032660) with: {'C': 5000, 'class_weight': None, 'intercept_scaling': 0.01, 'loss': 'hinge', 'max_iter': 2000, 'tol': 0.1}\n",
      "0.960000 (0.032660) with: {'C': 5000, 'class_weight': None, 'intercept_scaling': 0.01, 'loss': 'hinge', 'max_iter': 2000, 'tol': 0.0001}\n",
      "0.960000 (0.032660) with: {'C': 5000, 'class_weight': None, 'intercept_scaling': 0.01, 'loss': 'hinge', 'max_iter': 2000, 'tol': 0.00014376187}\n",
      "0.960000 (0.032660) with: {'C': 5000, 'class_weight': None, 'intercept_scaling': 0.01, 'loss': 'hinge', 'max_iter': 2000, 'tol': 1.7355634213475965e-05}\n",
      "0.960000 (0.032660) with: {'C': 5000, 'class_weight': None, 'intercept_scaling': 1, 'loss': 'squared_hinge', 'max_iter': 2000, 'tol': 0.1}\n",
      "0.960000 (0.032660) with: {'C': 5000, 'class_weight': None, 'intercept_scaling': 1, 'loss': 'squared_hinge', 'max_iter': 2000, 'tol': 0.0001}\n",
      "0.960000 (0.032660) with: {'C': 5000, 'class_weight': None, 'intercept_scaling': 1, 'loss': 'squared_hinge', 'max_iter': 2000, 'tol': 0.00014376187}\n",
      "0.960000 (0.032660) with: {'C': 5000, 'class_weight': None, 'intercept_scaling': 1, 'loss': 'squared_hinge', 'max_iter': 2000, 'tol': 1.7355634213475965e-05}\n",
      "0.960000 (0.032660) with: {'C': 5000, 'class_weight': None, 'intercept_scaling': 1, 'loss': 'hinge', 'max_iter': 2000, 'tol': 0.1}\n",
      "0.960000 (0.032660) with: {'C': 5000, 'class_weight': None, 'intercept_scaling': 1, 'loss': 'hinge', 'max_iter': 2000, 'tol': 0.0001}\n",
      "0.960000 (0.032660) with: {'C': 5000, 'class_weight': None, 'intercept_scaling': 1, 'loss': 'hinge', 'max_iter': 2000, 'tol': 0.00014376187}\n",
      "0.960000 (0.032660) with: {'C': 5000, 'class_weight': None, 'intercept_scaling': 1, 'loss': 'hinge', 'max_iter': 2000, 'tol': 1.7355634213475965e-05}\n",
      "0.960000 (0.032660) with: {'C': 5000, 'class_weight': None, 'intercept_scaling': 5, 'loss': 'squared_hinge', 'max_iter': 2000, 'tol': 0.1}\n",
      "0.960000 (0.032660) with: {'C': 5000, 'class_weight': None, 'intercept_scaling': 5, 'loss': 'squared_hinge', 'max_iter': 2000, 'tol': 0.0001}\n",
      "0.960000 (0.032660) with: {'C': 5000, 'class_weight': None, 'intercept_scaling': 5, 'loss': 'squared_hinge', 'max_iter': 2000, 'tol': 0.00014376187}\n",
      "0.960000 (0.032660) with: {'C': 5000, 'class_weight': None, 'intercept_scaling': 5, 'loss': 'squared_hinge', 'max_iter': 2000, 'tol': 1.7355634213475965e-05}\n",
      "0.960000 (0.032660) with: {'C': 5000, 'class_weight': None, 'intercept_scaling': 5, 'loss': 'hinge', 'max_iter': 2000, 'tol': 0.1}\n",
      "0.960000 (0.032660) with: {'C': 5000, 'class_weight': None, 'intercept_scaling': 5, 'loss': 'hinge', 'max_iter': 2000, 'tol': 0.0001}\n",
      "0.960000 (0.032660) with: {'C': 5000, 'class_weight': None, 'intercept_scaling': 5, 'loss': 'hinge', 'max_iter': 2000, 'tol': 0.00014376187}\n",
      "0.960000 (0.032660) with: {'C': 5000, 'class_weight': None, 'intercept_scaling': 5, 'loss': 'hinge', 'max_iter': 2000, 'tol': 1.7355634213475965e-05}\n",
      "0.960000 (0.032660) with: {'C': 8700, 'class_weight': None, 'intercept_scaling': 0.1, 'loss': 'squared_hinge', 'max_iter': 2000, 'tol': 0.1}\n",
      "0.960000 (0.032660) with: {'C': 8700, 'class_weight': None, 'intercept_scaling': 0.1, 'loss': 'squared_hinge', 'max_iter': 2000, 'tol': 0.0001}\n",
      "0.960000 (0.032660) with: {'C': 8700, 'class_weight': None, 'intercept_scaling': 0.1, 'loss': 'squared_hinge', 'max_iter': 2000, 'tol': 0.00014376187}\n",
      "0.960000 (0.032660) with: {'C': 8700, 'class_weight': None, 'intercept_scaling': 0.1, 'loss': 'squared_hinge', 'max_iter': 2000, 'tol': 1.7355634213475965e-05}\n",
      "0.960000 (0.032660) with: {'C': 8700, 'class_weight': None, 'intercept_scaling': 0.1, 'loss': 'hinge', 'max_iter': 2000, 'tol': 0.1}\n",
      "0.960000 (0.032660) with: {'C': 8700, 'class_weight': None, 'intercept_scaling': 0.1, 'loss': 'hinge', 'max_iter': 2000, 'tol': 0.0001}\n",
      "0.960000 (0.032660) with: {'C': 8700, 'class_weight': None, 'intercept_scaling': 0.1, 'loss': 'hinge', 'max_iter': 2000, 'tol': 0.00014376187}\n",
      "0.960000 (0.032660) with: {'C': 8700, 'class_weight': None, 'intercept_scaling': 0.1, 'loss': 'hinge', 'max_iter': 2000, 'tol': 1.7355634213475965e-05}\n",
      "0.960000 (0.032660) with: {'C': 8700, 'class_weight': None, 'intercept_scaling': 0.01, 'loss': 'squared_hinge', 'max_iter': 2000, 'tol': 0.1}\n",
      "0.960000 (0.032660) with: {'C': 8700, 'class_weight': None, 'intercept_scaling': 0.01, 'loss': 'squared_hinge', 'max_iter': 2000, 'tol': 0.0001}\n",
      "0.960000 (0.032660) with: {'C': 8700, 'class_weight': None, 'intercept_scaling': 0.01, 'loss': 'squared_hinge', 'max_iter': 2000, 'tol': 0.00014376187}\n",
      "0.960000 (0.032660) with: {'C': 8700, 'class_weight': None, 'intercept_scaling': 0.01, 'loss': 'squared_hinge', 'max_iter': 2000, 'tol': 1.7355634213475965e-05}\n",
      "0.960000 (0.032660) with: {'C': 8700, 'class_weight': None, 'intercept_scaling': 0.01, 'loss': 'hinge', 'max_iter': 2000, 'tol': 0.1}\n",
      "0.960000 (0.032660) with: {'C': 8700, 'class_weight': None, 'intercept_scaling': 0.01, 'loss': 'hinge', 'max_iter': 2000, 'tol': 0.0001}\n",
      "0.960000 (0.032660) with: {'C': 8700, 'class_weight': None, 'intercept_scaling': 0.01, 'loss': 'hinge', 'max_iter': 2000, 'tol': 0.00014376187}\n",
      "0.960000 (0.032660) with: {'C': 8700, 'class_weight': None, 'intercept_scaling': 0.01, 'loss': 'hinge', 'max_iter': 2000, 'tol': 1.7355634213475965e-05}\n",
      "0.960000 (0.032660) with: {'C': 8700, 'class_weight': None, 'intercept_scaling': 1, 'loss': 'squared_hinge', 'max_iter': 2000, 'tol': 0.1}\n",
      "0.960000 (0.032660) with: {'C': 8700, 'class_weight': None, 'intercept_scaling': 1, 'loss': 'squared_hinge', 'max_iter': 2000, 'tol': 0.0001}\n",
      "0.960000 (0.032660) with: {'C': 8700, 'class_weight': None, 'intercept_scaling': 1, 'loss': 'squared_hinge', 'max_iter': 2000, 'tol': 0.00014376187}\n",
      "0.960000 (0.032660) with: {'C': 8700, 'class_weight': None, 'intercept_scaling': 1, 'loss': 'squared_hinge', 'max_iter': 2000, 'tol': 1.7355634213475965e-05}\n",
      "0.960000 (0.032660) with: {'C': 8700, 'class_weight': None, 'intercept_scaling': 1, 'loss': 'hinge', 'max_iter': 2000, 'tol': 0.1}\n",
      "0.960000 (0.032660) with: {'C': 8700, 'class_weight': None, 'intercept_scaling': 1, 'loss': 'hinge', 'max_iter': 2000, 'tol': 0.0001}\n",
      "0.960000 (0.032660) with: {'C': 8700, 'class_weight': None, 'intercept_scaling': 1, 'loss': 'hinge', 'max_iter': 2000, 'tol': 0.00014376187}\n",
      "0.960000 (0.032660) with: {'C': 8700, 'class_weight': None, 'intercept_scaling': 1, 'loss': 'hinge', 'max_iter': 2000, 'tol': 1.7355634213475965e-05}\n",
      "0.960000 (0.032660) with: {'C': 8700, 'class_weight': None, 'intercept_scaling': 5, 'loss': 'squared_hinge', 'max_iter': 2000, 'tol': 0.1}\n",
      "0.960000 (0.032660) with: {'C': 8700, 'class_weight': None, 'intercept_scaling': 5, 'loss': 'squared_hinge', 'max_iter': 2000, 'tol': 0.0001}\n",
      "0.960000 (0.032660) with: {'C': 8700, 'class_weight': None, 'intercept_scaling': 5, 'loss': 'squared_hinge', 'max_iter': 2000, 'tol': 0.00014376187}\n",
      "0.960000 (0.032660) with: {'C': 8700, 'class_weight': None, 'intercept_scaling': 5, 'loss': 'squared_hinge', 'max_iter': 2000, 'tol': 1.7355634213475965e-05}\n",
      "0.960000 (0.032660) with: {'C': 8700, 'class_weight': None, 'intercept_scaling': 5, 'loss': 'hinge', 'max_iter': 2000, 'tol': 0.1}\n",
      "0.960000 (0.032660) with: {'C': 8700, 'class_weight': None, 'intercept_scaling': 5, 'loss': 'hinge', 'max_iter': 2000, 'tol': 0.0001}\n",
      "0.960000 (0.032660) with: {'C': 8700, 'class_weight': None, 'intercept_scaling': 5, 'loss': 'hinge', 'max_iter': 2000, 'tol': 0.00014376187}\n",
      "0.960000 (0.032660) with: {'C': 8700, 'class_weight': None, 'intercept_scaling': 5, 'loss': 'hinge', 'max_iter': 2000, 'tol': 1.7355634213475965e-05}\n"
     ]
    }
   ],
   "source": [
    "#https://machinelearningmastery.com/hyperparameters-for-classification-machine-learning-algorithms/\n",
    "model = LinearSVC()\n",
    "class_weight = [None]\n",
    "intercept_scaling= [0.1, 0.01, 1, 5]\n",
    "loss = [\"squared_hinge\", \"hinge\"]\n",
    "max_iter = [2000]\n",
    "tol = [0.1, 0.0001, 0.00014376187, 1.7355634213475965e-05]\n",
    "C = [0.35, 200000, 5000, 8700]\n",
    "# define grid search\n",
    "grid = dict(C=C, class_weight=class_weight, intercept_scaling=intercept_scaling, loss=loss,\n",
    "            max_iter=max_iter, tol=tol)\n",
    "cv = RepeatedStratifiedKFold(n_splits=10, n_repeats=3, random_state=1)\n",
    "grid_search = GridSearchCV(estimator=model, param_grid=grid, n_jobs=-1, cv=cv, scoring='accuracy',error_score=0)\n",
    "grid_result = grid_search.fit(X2, Y2)\n",
    "# summarize results\n",
    "print(\"Best: %f using %s\" % (grid_result.best_score_, grid_result.best_params_))\n",
    "means = grid_result.cv_results_['mean_test_score']\n",
    "stds = grid_result.cv_results_['std_test_score']\n",
    "params = grid_result.cv_results_['params']\n",
    "for mean, stdev, param in zip(means, stds, params):\n",
    "    print(\"%f (%f) with: %r\" % (mean, stdev, param))"
   ],
   "metadata": {
    "collapsed": false,
    "pycharm": {
     "name": "#%%\n"
    }
   }
  },
  {
   "cell_type": "code",
   "execution_count": 13,
   "outputs": [
    {
     "data": {
      "text/plain": "  0%|          | 0/200 [00:00<?, ?it/s]",
      "application/vnd.jupyter.widget-view+json": {
       "version_major": 2,
       "version_minor": 0,
       "model_id": "3dce07893aca482182ab1374d330da1d"
      }
     },
     "metadata": {},
     "output_type": "display_data"
    },
    {
     "name": "stderr",
     "output_type": "stream",
     "text": [
      "Token indices sequence length is longer than the specified maximum sequence length for this model (3719 > 512). Running this sequence through the model will result in indexing errors\n"
     ]
    },
    {
     "data": {
      "text/plain": "  0%|          | 0/988 [00:00<?, ?it/s]",
      "application/vnd.jupyter.widget-view+json": {
       "version_major": 2,
       "version_minor": 0,
       "model_id": "e3bcb108907d4d97a78f0cc1f5e2de3f"
      }
     },
     "metadata": {},
     "output_type": "display_data"
    }
   ],
   "source": [
    "cwd = os.getcwd()\n",
    "folder = \"../pan21-author-profiling-training-2021-03-14\"\n",
    "DFs = read_data_into_DFs(folder)\n",
    "os.chdir(cwd)\n",
    "vec_params = {\n",
    "    \"word_range\": (1, 2),\n",
    "    \"word_min\": 0.1,\n",
    "    \"word_max\": 1.0,\n",
    "    \"char_range\": (2, 6),\n",
    "    \"char_min\": 0.05,\n",
    "    \"char_max\": 0.75}\n",
    "model_params = {\n",
    "        \"C\": 0.35,\n",
    "        \"class_weight\": None,\n",
    "        \"intercept_scaling\": 0.1,\n",
    "        \"loss\": \"squared_hinge\",\n",
    "        \"max_iter\": 2000,\n",
    "        \"random_state\": 42,\n",
    "        \"tol\": 0.1,}\n",
    "data_bert = data_for_bert(DFs[0], train=False)\n",
    "berts_opinion, bert_results = utils.get_berts_opinion(data_bert, \"models/bert/en/checkpoint-396-epoch-2\")\n",
    "#mylist = data_for_bert(DFs[0], train=False)\n",
    "#mylist = mylist.values.tolist()\n",
    "#berts_opinion = get_berts_opinion(mylist, \"models/bert/en/best_model\")"
   ],
   "metadata": {
    "collapsed": false,
    "pycharm": {
     "name": "#%%\n"
    }
   }
  },
  {
   "cell_type": "code",
   "execution_count": 14,
   "outputs": [
    {
     "name": "stdout",
     "output_type": "stream",
     "text": [
      "Language: es\n",
      "Accuracy: 0.7\n",
      "Precisions: 0.68, 0.7333333333333333\n",
      "Recalls: 0.8095238095238095, 0.5789473684210527\n",
      "F Scores: 0.7391304347826089, 0.6470588235294117\n"
     ]
    }
   ],
   "source": [
    "X_train, X_dev, Y_train, Y_dev = create_df_bert(DFs[0], berts_opinion)\n",
    "\n",
    "model = LinearSVC(**model_params)\n",
    "\n",
    "word_Tfidf_vec = TfidfVectorizer(analyzer='word',\n",
    "                                     tokenizer=TweetTokenizer().tokenize,\n",
    "                                     ngram_range=vec_params['word_range'],\n",
    "                                     min_df=vec_params['word_min'], max_df=vec_params[\"word_max\"],\n",
    "                                     use_idf=True,\n",
    "                                     sublinear_tf=True)\n",
    "char_Tfidf_vec = TfidfVectorizer(analyzer='char',\n",
    "                                 tokenizer=TweetTokenizer().tokenize,\n",
    "                                 ngram_range=vec_params['char_range'],\n",
    "                                 min_df=vec_params['char_min'], max_df=vec_params[\"char_max\"],\n",
    "                                 use_idf=True,\n",
    "                                 sublinear_tf=True)\n",
    "\n",
    "column_transformer = ColumnTransformer(\n",
    "    [('tfidf_word', word_Tfidf_vec, 'concat_1'),\n",
    "     ('tfidf_char', char_Tfidf_vec, 'concat_2')],\n",
    "    remainder='passthrough')\n",
    "\n",
    "pipe = Pipeline([('tfidf', column_transformer),\n",
    "                 ('classify', model)])\n",
    "\n",
    "pipe.fit(X_train, Y_train)\n",
    "X_dev = column_transformer.transform(X_dev)\n",
    "\n",
    "predictions = model.predsklearn ict(X_dev)\n",
    "\n",
    "accuracy, f_measures = get_results(Y_dev, predictions, \"es\")"
   ],
   "metadata": {
    "collapsed": false,
    "pycharm": {
     "name": "#%%\n"
    }
   }
  },
  {
   "cell_type": "code",
   "execution_count": 17,
   "outputs": [
    {
     "name": "stdout",
     "output_type": "stream",
     "text": [
      "Language: es\n",
      "Accuracy: 0.825\n",
      "Precisions: 0.7443609022556391, 0.9850746268656716\n",
      "Recalls: 0.99, 0.66\n",
      "F Scores: 0.8497854077253219, 0.7904191616766467\n"
     ]
    }
   ],
   "source": [
    "Y = pd.concat([Y_train, Y_dev], ignore_index=True)\n",
    "Y = [int(y) for y in Y]\n",
    "accuracy_bert, f_measures_bert = get_results(Y, bert_results, \"es\")\n"
   ],
   "metadata": {
    "collapsed": false,
    "pycharm": {
     "name": "#%%\n"
    }
   }
  },
  {
   "cell_type": "code",
   "execution_count": 5,
   "outputs": [],
   "source": [
    "vec_params = {\n",
    "        \"word_range\": (1, 2),\n",
    "        \"word_min\": 0.05,\n",
    "        \"word_max\": 0.85,\n",
    "        \"char_range\": (1, 6),\n",
    "        \"char_min\": 0.001,\n",
    "        \"char_max\": 1.0}\n",
    "model_params = {\n",
    "        \"C\": 100000,\n",
    "        \"class_weight\": \"balanced\",\n",
    "        \"intercept_scaling\": 0.1,\n",
    "        #\"loss\": \"squared_hinge\",\n",
    "        \"max_iter\": 2000,\n",
    "        \"random_state\": 42,\n",
    "        \"tol\": 0.00001}\n",
    "\n",
    "X_train, X_dev, Y_train, Y_dev = create_df(DFs[1], prepro=True, demoji=False)\n",
    "\n",
    "model = LogisticRegression(**model_params)\n",
    "\n",
    "word_Tfidf_vec = TfidfVectorizer(analyzer='word',\n",
    "                                     tokenizer=TweetTokenizer().tokenize,\n",
    "                                     ngram_range=vec_params['word_range'],\n",
    "                                     min_df=vec_params['word_min'], max_df=vec_params[\"word_max\"],\n",
    "                                     use_idf=True,\n",
    "                                     sublinear_tf=True)\n",
    "char_Tfidf_vec = TfidfVectorizer(analyzer='char',\n",
    "                                 tokenizer=TweetTokenizer().tokenize,\n",
    "                                 ngram_range=vec_params['char_range'],\n",
    "                                 min_df=vec_params['char_min'], max_df=vec_params[\"char_max\"],\n",
    "                                 use_idf=True,\n",
    "                                 sublinear_tf=True)\n",
    "\n",
    "column_transformer = ColumnTransformer(\n",
    "    [('tfidf_word', word_Tfidf_vec, 'concat_1'),\n",
    "     ('tfidf_char', char_Tfidf_vec, 'concat_2')],\n",
    "    remainder='passthrough')\n",
    "\n",
    "pipe = Pipeline([('tfidf', column_transformer),\n",
    "                 ('classify', model)])\n",
    "\n",
    "pipe.fit(X_train, Y_train)\n",
    "X_dev = column_transformer.transform(X_dev)\n",
    "X_train = column_transformer.transform(X_train)\n",
    "\n",
    "\n",
    "\n",
    "probs_train = model.predict_proba(X_train)\n",
    "probs_dev = model.predict_proba(X_dev)"
   ],
   "metadata": {
    "collapsed": false,
    "pycharm": {
     "name": "#%%\n"
    }
   }
  },
  {
   "cell_type": "code",
   "execution_count": 6,
   "outputs": [],
   "source": [
    "preds = model.predict(X_dev)\n",
    "acc = sklearn.metrics.accuracy_score(Y_dev, preds)"
   ],
   "metadata": {
    "collapsed": false,
    "pycharm": {
     "name": "#%%\n"
    }
   }
  },
  {
   "cell_type": "code",
   "execution_count": 7,
   "outputs": [
    {
     "data": {
      "text/plain": "  0%|          | 0/200 [00:00<?, ?it/s]",
      "application/vnd.jupyter.widget-view+json": {
       "version_major": 2,
       "version_minor": 0,
       "model_id": "d42441dd5091421ebcbbbd92afa99b5a"
      }
     },
     "metadata": {},
     "output_type": "display_data"
    },
    {
     "name": "stderr",
     "output_type": "stream",
     "text": [
      "Token indices sequence length is longer than the specified maximum sequence length for this model (3068 > 512). Running this sequence through the model will result in indexing errors\n"
     ]
    },
    {
     "data": {
      "text/plain": "  0%|          | 0/2102 [00:00<?, ?it/s]",
      "application/vnd.jupyter.widget-view+json": {
       "version_major": 2,
       "version_minor": 0,
       "model_id": "b8362e13bfae4c4891b6d1929857a097"
      }
     },
     "metadata": {},
     "output_type": "display_data"
    }
   ],
   "source": [
    "#\"models/bert/en/checkpoint-396-epoch-2\"\n",
    "data_bert = data_for_bert(DFs[1], train=False)\n",
    "berts_opinion = utils.get_berts_opinion(data_bert, \"models/bert/es\")"
   ],
   "metadata": {
    "collapsed": false,
    "pycharm": {
     "name": "#%%\n"
    }
   }
  },
  {
   "cell_type": "code",
   "execution_count": 8,
   "outputs": [],
   "source": [
    "X_train_combo = np.concatenate([probs_train, berts_opinion[:160]], axis=1)\n",
    "X_dev_combo = np.concatenate([probs_dev, berts_opinion[160:]], axis=1)"
   ],
   "metadata": {
    "collapsed": false,
    "pycharm": {
     "name": "#%%\n"
    }
   }
  },
  {
   "cell_type": "code",
   "execution_count": 14,
   "outputs": [
    {
     "name": "stdout",
     "output_type": "stream",
     "text": [
      "Language: en\n",
      "Accuracy: 0.775\n",
      "Precisions: 0.8, 0.75\n",
      "Recalls: 0.7619047619047619, 0.7894736842105263\n",
      "F Scores: 0.7804878048780488, 0.7692307692307692\n"
     ]
    },
    {
     "data": {
      "text/plain": "[0.775, array([0.7804878 , 0.76923077])]"
     },
     "execution_count": 14,
     "metadata": {},
     "output_type": "execute_result"
    }
   ],
   "source": [
    "model_params_svm = {\n",
    "        \"C\": 0.017,\n",
    "        \"class_weight\": None,\n",
    "        \"intercept_scaling\": 5,\n",
    "        \"loss\": \"hinge\",\n",
    "        \"max_iter\": 2000,\n",
    "        \"random_state\": 42,\n",
    "        \"tol\": 5}\n",
    "model_svm = LinearSVC(**model_params_svm)\n",
    "\n",
    "model_svm.fit(X_train_combo, Y_train)\n",
    "\n",
    "predictions = model_svm.predict(X_dev_combo)\n",
    "\n",
    "accuracy = sklearn.metrics.accuracy_score(Y_dev, predictions)\n",
    "get_results(Y_dev, predictions, \"en\")"
   ],
   "metadata": {
    "collapsed": false,
    "pycharm": {
     "name": "#%%\n"
    }
   }
  },
  {
   "cell_type": "code",
   "execution_count": 10,
   "outputs": [],
   "source": [
    "class_weight = [None, \"balanced\"]\n",
    "intercept_scaling= [0.5, 0.05, 1, 5, 0.005, 0.0005, 0.1]\n",
    "loss = [\"hinge\", \"squared_hinge\"]\n",
    "max_iter = [2000]\n",
    "tol = [0.00001, 5, 0.0005, 0.00015]\n",
    "C = [0.015, 0.017, 0.01, 0.02]\n",
    "# define grid search\n",
    "grid = dict(C=C, class_weight=class_weight, intercept_scaling=intercept_scaling, loss=loss,\n",
    "            max_iter=max_iter, tol=tol)"
   ],
   "metadata": {
    "collapsed": false,
    "pycharm": {
     "name": "#%%\n"
    }
   }
  },
  {
   "cell_type": "code",
   "execution_count": 11,
   "outputs": [
    {
     "name": "stdout",
     "output_type": "stream",
     "text": [
      "Accuracy: 0.775, {'C': 0.015, 'class_weight': None, 'intercept_scaling': 0.5, 'loss': 'hinge', 'max_iter': 2000, 'tol': 1e-05}\n",
      "Accuracy: 0.775, {'C': 0.015, 'class_weight': None, 'intercept_scaling': 0.5, 'loss': 'hinge', 'max_iter': 2000, 'tol': 5}\n",
      "Accuracy: 0.775, {'C': 0.015, 'class_weight': None, 'intercept_scaling': 0.5, 'loss': 'hinge', 'max_iter': 2000, 'tol': 0.0005}\n",
      "Accuracy: 0.775, {'C': 0.015, 'class_weight': None, 'intercept_scaling': 0.5, 'loss': 'hinge', 'max_iter': 2000, 'tol': 0.00015}\n",
      "Accuracy: 0.775, {'C': 0.015, 'class_weight': None, 'intercept_scaling': 0.5, 'loss': 'squared_hinge', 'max_iter': 2000, 'tol': 1e-05}\n",
      "Accuracy: 0.775, {'C': 0.015, 'class_weight': None, 'intercept_scaling': 0.5, 'loss': 'squared_hinge', 'max_iter': 2000, 'tol': 5}\n",
      "Accuracy: 0.775, {'C': 0.015, 'class_weight': None, 'intercept_scaling': 0.5, 'loss': 'squared_hinge', 'max_iter': 2000, 'tol': 0.0005}\n",
      "Accuracy: 0.775, {'C': 0.015, 'class_weight': None, 'intercept_scaling': 0.5, 'loss': 'squared_hinge', 'max_iter': 2000, 'tol': 0.00015}\n",
      "Accuracy: 0.775, {'C': 0.015, 'class_weight': None, 'intercept_scaling': 0.05, 'loss': 'hinge', 'max_iter': 2000, 'tol': 1e-05}\n",
      "Accuracy: 0.775, {'C': 0.015, 'class_weight': None, 'intercept_scaling': 0.05, 'loss': 'hinge', 'max_iter': 2000, 'tol': 5}\n",
      "Accuracy: 0.775, {'C': 0.015, 'class_weight': None, 'intercept_scaling': 0.05, 'loss': 'hinge', 'max_iter': 2000, 'tol': 0.0005}\n",
      "Accuracy: 0.775, {'C': 0.015, 'class_weight': None, 'intercept_scaling': 0.05, 'loss': 'hinge', 'max_iter': 2000, 'tol': 0.00015}\n",
      "Accuracy: 0.75, {'C': 0.015, 'class_weight': None, 'intercept_scaling': 0.05, 'loss': 'squared_hinge', 'max_iter': 2000, 'tol': 1e-05}\n",
      "Accuracy: 0.775, {'C': 0.015, 'class_weight': None, 'intercept_scaling': 0.05, 'loss': 'squared_hinge', 'max_iter': 2000, 'tol': 5}\n",
      "Accuracy: 0.75, {'C': 0.015, 'class_weight': None, 'intercept_scaling': 0.05, 'loss': 'squared_hinge', 'max_iter': 2000, 'tol': 0.0005}\n",
      "Accuracy: 0.75, {'C': 0.015, 'class_weight': None, 'intercept_scaling': 0.05, 'loss': 'squared_hinge', 'max_iter': 2000, 'tol': 0.00015}\n",
      "Accuracy: 0.775, {'C': 0.015, 'class_weight': None, 'intercept_scaling': 1, 'loss': 'hinge', 'max_iter': 2000, 'tol': 1e-05}\n",
      "Accuracy: 0.775, {'C': 0.015, 'class_weight': None, 'intercept_scaling': 1, 'loss': 'hinge', 'max_iter': 2000, 'tol': 5}\n",
      "Accuracy: 0.775, {'C': 0.015, 'class_weight': None, 'intercept_scaling': 1, 'loss': 'hinge', 'max_iter': 2000, 'tol': 0.0005}\n",
      "Accuracy: 0.775, {'C': 0.015, 'class_weight': None, 'intercept_scaling': 1, 'loss': 'hinge', 'max_iter': 2000, 'tol': 0.00015}\n",
      "Accuracy: 0.775, {'C': 0.015, 'class_weight': None, 'intercept_scaling': 1, 'loss': 'squared_hinge', 'max_iter': 2000, 'tol': 1e-05}\n",
      "Accuracy: 0.775, {'C': 0.015, 'class_weight': None, 'intercept_scaling': 1, 'loss': 'squared_hinge', 'max_iter': 2000, 'tol': 5}\n",
      "Accuracy: 0.775, {'C': 0.015, 'class_weight': None, 'intercept_scaling': 1, 'loss': 'squared_hinge', 'max_iter': 2000, 'tol': 0.0005}\n",
      "Accuracy: 0.775, {'C': 0.015, 'class_weight': None, 'intercept_scaling': 1, 'loss': 'squared_hinge', 'max_iter': 2000, 'tol': 0.00015}\n",
      "Accuracy: 0.775, {'C': 0.015, 'class_weight': None, 'intercept_scaling': 5, 'loss': 'hinge', 'max_iter': 2000, 'tol': 1e-05}\n",
      "Accuracy: 0.75, {'C': 0.015, 'class_weight': None, 'intercept_scaling': 5, 'loss': 'hinge', 'max_iter': 2000, 'tol': 5}\n",
      "Accuracy: 0.775, {'C': 0.015, 'class_weight': None, 'intercept_scaling': 5, 'loss': 'hinge', 'max_iter': 2000, 'tol': 0.0005}\n",
      "Accuracy: 0.775, {'C': 0.015, 'class_weight': None, 'intercept_scaling': 5, 'loss': 'hinge', 'max_iter': 2000, 'tol': 0.00015}\n",
      "Accuracy: 0.775, {'C': 0.015, 'class_weight': None, 'intercept_scaling': 5, 'loss': 'squared_hinge', 'max_iter': 2000, 'tol': 1e-05}\n",
      "Accuracy: 0.775, {'C': 0.015, 'class_weight': None, 'intercept_scaling': 5, 'loss': 'squared_hinge', 'max_iter': 2000, 'tol': 5}\n",
      "Accuracy: 0.775, {'C': 0.015, 'class_weight': None, 'intercept_scaling': 5, 'loss': 'squared_hinge', 'max_iter': 2000, 'tol': 0.0005}\n",
      "Accuracy: 0.775, {'C': 0.015, 'class_weight': None, 'intercept_scaling': 5, 'loss': 'squared_hinge', 'max_iter': 2000, 'tol': 0.00015}\n",
      "Accuracy: 0.775, {'C': 0.015, 'class_weight': None, 'intercept_scaling': 0.005, 'loss': 'hinge', 'max_iter': 2000, 'tol': 1e-05}\n",
      "Accuracy: 0.75, {'C': 0.015, 'class_weight': None, 'intercept_scaling': 0.005, 'loss': 'hinge', 'max_iter': 2000, 'tol': 5}\n",
      "Accuracy: 0.775, {'C': 0.015, 'class_weight': None, 'intercept_scaling': 0.005, 'loss': 'hinge', 'max_iter': 2000, 'tol': 0.0005}\n",
      "Accuracy: 0.775, {'C': 0.015, 'class_weight': None, 'intercept_scaling': 0.005, 'loss': 'hinge', 'max_iter': 2000, 'tol': 0.00015}\n",
      "Accuracy: 0.75, {'C': 0.015, 'class_weight': None, 'intercept_scaling': 0.005, 'loss': 'squared_hinge', 'max_iter': 2000, 'tol': 1e-05}\n",
      "Accuracy: 0.775, {'C': 0.015, 'class_weight': None, 'intercept_scaling': 0.005, 'loss': 'squared_hinge', 'max_iter': 2000, 'tol': 5}\n",
      "Accuracy: 0.75, {'C': 0.015, 'class_weight': None, 'intercept_scaling': 0.005, 'loss': 'squared_hinge', 'max_iter': 2000, 'tol': 0.0005}\n",
      "Accuracy: 0.75, {'C': 0.015, 'class_weight': None, 'intercept_scaling': 0.005, 'loss': 'squared_hinge', 'max_iter': 2000, 'tol': 0.00015}\n",
      "Accuracy: 0.775, {'C': 0.015, 'class_weight': None, 'intercept_scaling': 0.0005, 'loss': 'hinge', 'max_iter': 2000, 'tol': 1e-05}\n",
      "Accuracy: 0.775, {'C': 0.015, 'class_weight': None, 'intercept_scaling': 0.0005, 'loss': 'hinge', 'max_iter': 2000, 'tol': 5}\n",
      "Accuracy: 0.775, {'C': 0.015, 'class_weight': None, 'intercept_scaling': 0.0005, 'loss': 'hinge', 'max_iter': 2000, 'tol': 0.0005}\n",
      "Accuracy: 0.775, {'C': 0.015, 'class_weight': None, 'intercept_scaling': 0.0005, 'loss': 'hinge', 'max_iter': 2000, 'tol': 0.00015}\n",
      "Accuracy: 0.75, {'C': 0.015, 'class_weight': None, 'intercept_scaling': 0.0005, 'loss': 'squared_hinge', 'max_iter': 2000, 'tol': 1e-05}\n",
      "Accuracy: 0.75, {'C': 0.015, 'class_weight': None, 'intercept_scaling': 0.0005, 'loss': 'squared_hinge', 'max_iter': 2000, 'tol': 5}\n",
      "Accuracy: 0.75, {'C': 0.015, 'class_weight': None, 'intercept_scaling': 0.0005, 'loss': 'squared_hinge', 'max_iter': 2000, 'tol': 0.0005}\n",
      "Accuracy: 0.75, {'C': 0.015, 'class_weight': None, 'intercept_scaling': 0.0005, 'loss': 'squared_hinge', 'max_iter': 2000, 'tol': 0.00015}\n",
      "Accuracy: 0.775, {'C': 0.015, 'class_weight': None, 'intercept_scaling': 0.1, 'loss': 'hinge', 'max_iter': 2000, 'tol': 1e-05}\n",
      "Accuracy: 0.75, {'C': 0.015, 'class_weight': None, 'intercept_scaling': 0.1, 'loss': 'hinge', 'max_iter': 2000, 'tol': 5}\n",
      "Accuracy: 0.775, {'C': 0.015, 'class_weight': None, 'intercept_scaling': 0.1, 'loss': 'hinge', 'max_iter': 2000, 'tol': 0.0005}\n",
      "Accuracy: 0.775, {'C': 0.015, 'class_weight': None, 'intercept_scaling': 0.1, 'loss': 'hinge', 'max_iter': 2000, 'tol': 0.00015}\n",
      "Accuracy: 0.75, {'C': 0.015, 'class_weight': None, 'intercept_scaling': 0.1, 'loss': 'squared_hinge', 'max_iter': 2000, 'tol': 1e-05}\n",
      "Accuracy: 0.775, {'C': 0.015, 'class_weight': None, 'intercept_scaling': 0.1, 'loss': 'squared_hinge', 'max_iter': 2000, 'tol': 5}\n",
      "Accuracy: 0.75, {'C': 0.015, 'class_weight': None, 'intercept_scaling': 0.1, 'loss': 'squared_hinge', 'max_iter': 2000, 'tol': 0.0005}\n",
      "Accuracy: 0.75, {'C': 0.015, 'class_weight': None, 'intercept_scaling': 0.1, 'loss': 'squared_hinge', 'max_iter': 2000, 'tol': 0.00015}\n",
      "Accuracy: 0.775, {'C': 0.015, 'class_weight': 'balanced', 'intercept_scaling': 0.5, 'loss': 'hinge', 'max_iter': 2000, 'tol': 1e-05}\n",
      "Accuracy: 0.75, {'C': 0.015, 'class_weight': 'balanced', 'intercept_scaling': 0.5, 'loss': 'hinge', 'max_iter': 2000, 'tol': 5}\n",
      "Accuracy: 0.775, {'C': 0.015, 'class_weight': 'balanced', 'intercept_scaling': 0.5, 'loss': 'hinge', 'max_iter': 2000, 'tol': 0.0005}\n",
      "Accuracy: 0.775, {'C': 0.015, 'class_weight': 'balanced', 'intercept_scaling': 0.5, 'loss': 'hinge', 'max_iter': 2000, 'tol': 0.00015}\n",
      "Accuracy: 0.775, {'C': 0.015, 'class_weight': 'balanced', 'intercept_scaling': 0.5, 'loss': 'squared_hinge', 'max_iter': 2000, 'tol': 1e-05}\n",
      "Accuracy: 0.775, {'C': 0.015, 'class_weight': 'balanced', 'intercept_scaling': 0.5, 'loss': 'squared_hinge', 'max_iter': 2000, 'tol': 5}\n",
      "Accuracy: 0.775, {'C': 0.015, 'class_weight': 'balanced', 'intercept_scaling': 0.5, 'loss': 'squared_hinge', 'max_iter': 2000, 'tol': 0.0005}\n",
      "Accuracy: 0.775, {'C': 0.015, 'class_weight': 'balanced', 'intercept_scaling': 0.5, 'loss': 'squared_hinge', 'max_iter': 2000, 'tol': 0.00015}\n",
      "Accuracy: 0.775, {'C': 0.015, 'class_weight': 'balanced', 'intercept_scaling': 0.05, 'loss': 'hinge', 'max_iter': 2000, 'tol': 1e-05}\n",
      "Accuracy: 0.75, {'C': 0.015, 'class_weight': 'balanced', 'intercept_scaling': 0.05, 'loss': 'hinge', 'max_iter': 2000, 'tol': 5}\n",
      "Accuracy: 0.775, {'C': 0.015, 'class_weight': 'balanced', 'intercept_scaling': 0.05, 'loss': 'hinge', 'max_iter': 2000, 'tol': 0.0005}\n",
      "Accuracy: 0.775, {'C': 0.015, 'class_weight': 'balanced', 'intercept_scaling': 0.05, 'loss': 'hinge', 'max_iter': 2000, 'tol': 0.00015}\n",
      "Accuracy: 0.75, {'C': 0.015, 'class_weight': 'balanced', 'intercept_scaling': 0.05, 'loss': 'squared_hinge', 'max_iter': 2000, 'tol': 1e-05}\n",
      "Accuracy: 0.775, {'C': 0.015, 'class_weight': 'balanced', 'intercept_scaling': 0.05, 'loss': 'squared_hinge', 'max_iter': 2000, 'tol': 5}\n",
      "Accuracy: 0.75, {'C': 0.015, 'class_weight': 'balanced', 'intercept_scaling': 0.05, 'loss': 'squared_hinge', 'max_iter': 2000, 'tol': 0.0005}\n",
      "Accuracy: 0.75, {'C': 0.015, 'class_weight': 'balanced', 'intercept_scaling': 0.05, 'loss': 'squared_hinge', 'max_iter': 2000, 'tol': 0.00015}\n",
      "Accuracy: 0.775, {'C': 0.015, 'class_weight': 'balanced', 'intercept_scaling': 1, 'loss': 'hinge', 'max_iter': 2000, 'tol': 1e-05}\n",
      "Accuracy: 0.775, {'C': 0.015, 'class_weight': 'balanced', 'intercept_scaling': 1, 'loss': 'hinge', 'max_iter': 2000, 'tol': 5}\n",
      "Accuracy: 0.775, {'C': 0.015, 'class_weight': 'balanced', 'intercept_scaling': 1, 'loss': 'hinge', 'max_iter': 2000, 'tol': 0.0005}\n",
      "Accuracy: 0.775, {'C': 0.015, 'class_weight': 'balanced', 'intercept_scaling': 1, 'loss': 'hinge', 'max_iter': 2000, 'tol': 0.00015}\n",
      "Accuracy: 0.775, {'C': 0.015, 'class_weight': 'balanced', 'intercept_scaling': 1, 'loss': 'squared_hinge', 'max_iter': 2000, 'tol': 1e-05}\n",
      "Accuracy: 0.775, {'C': 0.015, 'class_weight': 'balanced', 'intercept_scaling': 1, 'loss': 'squared_hinge', 'max_iter': 2000, 'tol': 5}\n",
      "Accuracy: 0.775, {'C': 0.015, 'class_weight': 'balanced', 'intercept_scaling': 1, 'loss': 'squared_hinge', 'max_iter': 2000, 'tol': 0.0005}\n",
      "Accuracy: 0.775, {'C': 0.015, 'class_weight': 'balanced', 'intercept_scaling': 1, 'loss': 'squared_hinge', 'max_iter': 2000, 'tol': 0.00015}\n",
      "Accuracy: 0.775, {'C': 0.015, 'class_weight': 'balanced', 'intercept_scaling': 5, 'loss': 'hinge', 'max_iter': 2000, 'tol': 1e-05}\n",
      "Accuracy: 0.8, {'C': 0.015, 'class_weight': 'balanced', 'intercept_scaling': 5, 'loss': 'hinge', 'max_iter': 2000, 'tol': 5}\n",
      "Accuracy: 0.775, {'C': 0.015, 'class_weight': 'balanced', 'intercept_scaling': 5, 'loss': 'hinge', 'max_iter': 2000, 'tol': 0.0005}\n",
      "Accuracy: 0.775, {'C': 0.015, 'class_weight': 'balanced', 'intercept_scaling': 5, 'loss': 'hinge', 'max_iter': 2000, 'tol': 0.00015}\n",
      "Accuracy: 0.775, {'C': 0.015, 'class_weight': 'balanced', 'intercept_scaling': 5, 'loss': 'squared_hinge', 'max_iter': 2000, 'tol': 1e-05}\n",
      "Accuracy: 0.75, {'C': 0.015, 'class_weight': 'balanced', 'intercept_scaling': 5, 'loss': 'squared_hinge', 'max_iter': 2000, 'tol': 5}\n",
      "Accuracy: 0.775, {'C': 0.015, 'class_weight': 'balanced', 'intercept_scaling': 5, 'loss': 'squared_hinge', 'max_iter': 2000, 'tol': 0.0005}\n",
      "Accuracy: 0.775, {'C': 0.015, 'class_weight': 'balanced', 'intercept_scaling': 5, 'loss': 'squared_hinge', 'max_iter': 2000, 'tol': 0.00015}\n",
      "Accuracy: 0.775, {'C': 0.015, 'class_weight': 'balanced', 'intercept_scaling': 0.005, 'loss': 'hinge', 'max_iter': 2000, 'tol': 1e-05}\n",
      "Accuracy: 0.775, {'C': 0.015, 'class_weight': 'balanced', 'intercept_scaling': 0.005, 'loss': 'hinge', 'max_iter': 2000, 'tol': 5}\n",
      "Accuracy: 0.775, {'C': 0.015, 'class_weight': 'balanced', 'intercept_scaling': 0.005, 'loss': 'hinge', 'max_iter': 2000, 'tol': 0.0005}\n",
      "Accuracy: 0.775, {'C': 0.015, 'class_weight': 'balanced', 'intercept_scaling': 0.005, 'loss': 'hinge', 'max_iter': 2000, 'tol': 0.00015}\n",
      "Accuracy: 0.75, {'C': 0.015, 'class_weight': 'balanced', 'intercept_scaling': 0.005, 'loss': 'squared_hinge', 'max_iter': 2000, 'tol': 1e-05}\n",
      "Accuracy: 0.775, {'C': 0.015, 'class_weight': 'balanced', 'intercept_scaling': 0.005, 'loss': 'squared_hinge', 'max_iter': 2000, 'tol': 5}\n",
      "Accuracy: 0.75, {'C': 0.015, 'class_weight': 'balanced', 'intercept_scaling': 0.005, 'loss': 'squared_hinge', 'max_iter': 2000, 'tol': 0.0005}\n",
      "Accuracy: 0.75, {'C': 0.015, 'class_weight': 'balanced', 'intercept_scaling': 0.005, 'loss': 'squared_hinge', 'max_iter': 2000, 'tol': 0.00015}\n",
      "Accuracy: 0.775, {'C': 0.015, 'class_weight': 'balanced', 'intercept_scaling': 0.0005, 'loss': 'hinge', 'max_iter': 2000, 'tol': 1e-05}\n",
      "Accuracy: 0.775, {'C': 0.015, 'class_weight': 'balanced', 'intercept_scaling': 0.0005, 'loss': 'hinge', 'max_iter': 2000, 'tol': 5}\n",
      "Accuracy: 0.775, {'C': 0.015, 'class_weight': 'balanced', 'intercept_scaling': 0.0005, 'loss': 'hinge', 'max_iter': 2000, 'tol': 0.0005}\n",
      "Accuracy: 0.775, {'C': 0.015, 'class_weight': 'balanced', 'intercept_scaling': 0.0005, 'loss': 'hinge', 'max_iter': 2000, 'tol': 0.00015}\n",
      "Accuracy: 0.75, {'C': 0.015, 'class_weight': 'balanced', 'intercept_scaling': 0.0005, 'loss': 'squared_hinge', 'max_iter': 2000, 'tol': 1e-05}\n",
      "Accuracy: 0.775, {'C': 0.015, 'class_weight': 'balanced', 'intercept_scaling': 0.0005, 'loss': 'squared_hinge', 'max_iter': 2000, 'tol': 5}\n",
      "Accuracy: 0.75, {'C': 0.015, 'class_weight': 'balanced', 'intercept_scaling': 0.0005, 'loss': 'squared_hinge', 'max_iter': 2000, 'tol': 0.0005}\n",
      "Accuracy: 0.75, {'C': 0.015, 'class_weight': 'balanced', 'intercept_scaling': 0.0005, 'loss': 'squared_hinge', 'max_iter': 2000, 'tol': 0.00015}\n",
      "Accuracy: 0.775, {'C': 0.015, 'class_weight': 'balanced', 'intercept_scaling': 0.1, 'loss': 'hinge', 'max_iter': 2000, 'tol': 1e-05}\n",
      "Accuracy: 0.775, {'C': 0.015, 'class_weight': 'balanced', 'intercept_scaling': 0.1, 'loss': 'hinge', 'max_iter': 2000, 'tol': 5}\n",
      "Accuracy: 0.775, {'C': 0.015, 'class_weight': 'balanced', 'intercept_scaling': 0.1, 'loss': 'hinge', 'max_iter': 2000, 'tol': 0.0005}\n",
      "Accuracy: 0.775, {'C': 0.015, 'class_weight': 'balanced', 'intercept_scaling': 0.1, 'loss': 'hinge', 'max_iter': 2000, 'tol': 0.00015}\n",
      "Accuracy: 0.75, {'C': 0.015, 'class_weight': 'balanced', 'intercept_scaling': 0.1, 'loss': 'squared_hinge', 'max_iter': 2000, 'tol': 1e-05}\n",
      "Accuracy: 0.775, {'C': 0.015, 'class_weight': 'balanced', 'intercept_scaling': 0.1, 'loss': 'squared_hinge', 'max_iter': 2000, 'tol': 5}\n",
      "Accuracy: 0.75, {'C': 0.015, 'class_weight': 'balanced', 'intercept_scaling': 0.1, 'loss': 'squared_hinge', 'max_iter': 2000, 'tol': 0.0005}\n",
      "Accuracy: 0.75, {'C': 0.015, 'class_weight': 'balanced', 'intercept_scaling': 0.1, 'loss': 'squared_hinge', 'max_iter': 2000, 'tol': 0.00015}\n",
      "Accuracy: 0.775, {'C': 0.017, 'class_weight': None, 'intercept_scaling': 0.5, 'loss': 'hinge', 'max_iter': 2000, 'tol': 1e-05}\n",
      "Accuracy: 0.775, {'C': 0.017, 'class_weight': None, 'intercept_scaling': 0.5, 'loss': 'hinge', 'max_iter': 2000, 'tol': 5}\n",
      "Accuracy: 0.775, {'C': 0.017, 'class_weight': None, 'intercept_scaling': 0.5, 'loss': 'hinge', 'max_iter': 2000, 'tol': 0.0005}\n",
      "Accuracy: 0.775, {'C': 0.017, 'class_weight': None, 'intercept_scaling': 0.5, 'loss': 'hinge', 'max_iter': 2000, 'tol': 0.00015}\n",
      "Accuracy: 0.775, {'C': 0.017, 'class_weight': None, 'intercept_scaling': 0.5, 'loss': 'squared_hinge', 'max_iter': 2000, 'tol': 1e-05}\n",
      "Accuracy: 0.775, {'C': 0.017, 'class_weight': None, 'intercept_scaling': 0.5, 'loss': 'squared_hinge', 'max_iter': 2000, 'tol': 5}\n",
      "Accuracy: 0.775, {'C': 0.017, 'class_weight': None, 'intercept_scaling': 0.5, 'loss': 'squared_hinge', 'max_iter': 2000, 'tol': 0.0005}\n",
      "Accuracy: 0.775, {'C': 0.017, 'class_weight': None, 'intercept_scaling': 0.5, 'loss': 'squared_hinge', 'max_iter': 2000, 'tol': 0.00015}\n",
      "Accuracy: 0.75, {'C': 0.017, 'class_weight': None, 'intercept_scaling': 0.05, 'loss': 'hinge', 'max_iter': 2000, 'tol': 1e-05}\n",
      "Accuracy: 0.75, {'C': 0.017, 'class_weight': None, 'intercept_scaling': 0.05, 'loss': 'hinge', 'max_iter': 2000, 'tol': 5}\n",
      "Accuracy: 0.75, {'C': 0.017, 'class_weight': None, 'intercept_scaling': 0.05, 'loss': 'hinge', 'max_iter': 2000, 'tol': 0.0005}\n",
      "Accuracy: 0.75, {'C': 0.017, 'class_weight': None, 'intercept_scaling': 0.05, 'loss': 'hinge', 'max_iter': 2000, 'tol': 0.00015}\n",
      "Accuracy: 0.75, {'C': 0.017, 'class_weight': None, 'intercept_scaling': 0.05, 'loss': 'squared_hinge', 'max_iter': 2000, 'tol': 1e-05}\n",
      "Accuracy: 0.775, {'C': 0.017, 'class_weight': None, 'intercept_scaling': 0.05, 'loss': 'squared_hinge', 'max_iter': 2000, 'tol': 5}\n",
      "Accuracy: 0.75, {'C': 0.017, 'class_weight': None, 'intercept_scaling': 0.05, 'loss': 'squared_hinge', 'max_iter': 2000, 'tol': 0.0005}\n",
      "Accuracy: 0.75, {'C': 0.017, 'class_weight': None, 'intercept_scaling': 0.05, 'loss': 'squared_hinge', 'max_iter': 2000, 'tol': 0.00015}\n",
      "Accuracy: 0.775, {'C': 0.017, 'class_weight': None, 'intercept_scaling': 1, 'loss': 'hinge', 'max_iter': 2000, 'tol': 1e-05}\n",
      "Accuracy: 0.775, {'C': 0.017, 'class_weight': None, 'intercept_scaling': 1, 'loss': 'hinge', 'max_iter': 2000, 'tol': 5}\n",
      "Accuracy: 0.775, {'C': 0.017, 'class_weight': None, 'intercept_scaling': 1, 'loss': 'hinge', 'max_iter': 2000, 'tol': 0.0005}\n",
      "Accuracy: 0.775, {'C': 0.017, 'class_weight': None, 'intercept_scaling': 1, 'loss': 'hinge', 'max_iter': 2000, 'tol': 0.00015}\n",
      "Accuracy: 0.775, {'C': 0.017, 'class_weight': None, 'intercept_scaling': 1, 'loss': 'squared_hinge', 'max_iter': 2000, 'tol': 1e-05}\n",
      "Accuracy: 0.775, {'C': 0.017, 'class_weight': None, 'intercept_scaling': 1, 'loss': 'squared_hinge', 'max_iter': 2000, 'tol': 5}\n",
      "Accuracy: 0.775, {'C': 0.017, 'class_weight': None, 'intercept_scaling': 1, 'loss': 'squared_hinge', 'max_iter': 2000, 'tol': 0.0005}\n",
      "Accuracy: 0.775, {'C': 0.017, 'class_weight': None, 'intercept_scaling': 1, 'loss': 'squared_hinge', 'max_iter': 2000, 'tol': 0.00015}\n",
      "Accuracy: 0.775, {'C': 0.017, 'class_weight': None, 'intercept_scaling': 5, 'loss': 'hinge', 'max_iter': 2000, 'tol': 1e-05}\n",
      "Accuracy: 0.8, {'C': 0.017, 'class_weight': None, 'intercept_scaling': 5, 'loss': 'hinge', 'max_iter': 2000, 'tol': 5}\n",
      "Accuracy: 0.775, {'C': 0.017, 'class_weight': None, 'intercept_scaling': 5, 'loss': 'hinge', 'max_iter': 2000, 'tol': 0.0005}\n",
      "Accuracy: 0.775, {'C': 0.017, 'class_weight': None, 'intercept_scaling': 5, 'loss': 'hinge', 'max_iter': 2000, 'tol': 0.00015}\n",
      "Accuracy: 0.775, {'C': 0.017, 'class_weight': None, 'intercept_scaling': 5, 'loss': 'squared_hinge', 'max_iter': 2000, 'tol': 1e-05}\n",
      "Accuracy: 0.75, {'C': 0.017, 'class_weight': None, 'intercept_scaling': 5, 'loss': 'squared_hinge', 'max_iter': 2000, 'tol': 5}\n",
      "Accuracy: 0.775, {'C': 0.017, 'class_weight': None, 'intercept_scaling': 5, 'loss': 'squared_hinge', 'max_iter': 2000, 'tol': 0.0005}\n",
      "Accuracy: 0.775, {'C': 0.017, 'class_weight': None, 'intercept_scaling': 5, 'loss': 'squared_hinge', 'max_iter': 2000, 'tol': 0.00015}\n",
      "Accuracy: 0.75, {'C': 0.017, 'class_weight': None, 'intercept_scaling': 0.005, 'loss': 'hinge', 'max_iter': 2000, 'tol': 1e-05}\n",
      "Accuracy: 0.775, {'C': 0.017, 'class_weight': None, 'intercept_scaling': 0.005, 'loss': 'hinge', 'max_iter': 2000, 'tol': 5}\n",
      "Accuracy: 0.75, {'C': 0.017, 'class_weight': None, 'intercept_scaling': 0.005, 'loss': 'hinge', 'max_iter': 2000, 'tol': 0.0005}\n",
      "Accuracy: 0.75, {'C': 0.017, 'class_weight': None, 'intercept_scaling': 0.005, 'loss': 'hinge', 'max_iter': 2000, 'tol': 0.00015}\n",
      "Accuracy: 0.75, {'C': 0.017, 'class_weight': None, 'intercept_scaling': 0.005, 'loss': 'squared_hinge', 'max_iter': 2000, 'tol': 1e-05}\n",
      "Accuracy: 0.775, {'C': 0.017, 'class_weight': None, 'intercept_scaling': 0.005, 'loss': 'squared_hinge', 'max_iter': 2000, 'tol': 5}\n",
      "Accuracy: 0.75, {'C': 0.017, 'class_weight': None, 'intercept_scaling': 0.005, 'loss': 'squared_hinge', 'max_iter': 2000, 'tol': 0.0005}\n",
      "Accuracy: 0.75, {'C': 0.017, 'class_weight': None, 'intercept_scaling': 0.005, 'loss': 'squared_hinge', 'max_iter': 2000, 'tol': 0.00015}\n",
      "Accuracy: 0.75, {'C': 0.017, 'class_weight': None, 'intercept_scaling': 0.0005, 'loss': 'hinge', 'max_iter': 2000, 'tol': 1e-05}\n",
      "Accuracy: 0.775, {'C': 0.017, 'class_weight': None, 'intercept_scaling': 0.0005, 'loss': 'hinge', 'max_iter': 2000, 'tol': 5}\n",
      "Accuracy: 0.75, {'C': 0.017, 'class_weight': None, 'intercept_scaling': 0.0005, 'loss': 'hinge', 'max_iter': 2000, 'tol': 0.0005}\n",
      "Accuracy: 0.75, {'C': 0.017, 'class_weight': None, 'intercept_scaling': 0.0005, 'loss': 'hinge', 'max_iter': 2000, 'tol': 0.00015}\n",
      "Accuracy: 0.75, {'C': 0.017, 'class_weight': None, 'intercept_scaling': 0.0005, 'loss': 'squared_hinge', 'max_iter': 2000, 'tol': 1e-05}\n",
      "Accuracy: 0.775, {'C': 0.017, 'class_weight': None, 'intercept_scaling': 0.0005, 'loss': 'squared_hinge', 'max_iter': 2000, 'tol': 5}\n",
      "Accuracy: 0.75, {'C': 0.017, 'class_weight': None, 'intercept_scaling': 0.0005, 'loss': 'squared_hinge', 'max_iter': 2000, 'tol': 0.0005}\n",
      "Accuracy: 0.75, {'C': 0.017, 'class_weight': None, 'intercept_scaling': 0.0005, 'loss': 'squared_hinge', 'max_iter': 2000, 'tol': 0.00015}\n",
      "Accuracy: 0.75, {'C': 0.017, 'class_weight': None, 'intercept_scaling': 0.1, 'loss': 'hinge', 'max_iter': 2000, 'tol': 1e-05}\n",
      "Accuracy: 0.75, {'C': 0.017, 'class_weight': None, 'intercept_scaling': 0.1, 'loss': 'hinge', 'max_iter': 2000, 'tol': 5}\n",
      "Accuracy: 0.75, {'C': 0.017, 'class_weight': None, 'intercept_scaling': 0.1, 'loss': 'hinge', 'max_iter': 2000, 'tol': 0.0005}\n",
      "Accuracy: 0.75, {'C': 0.017, 'class_weight': None, 'intercept_scaling': 0.1, 'loss': 'hinge', 'max_iter': 2000, 'tol': 0.00015}\n",
      "Accuracy: 0.75, {'C': 0.017, 'class_weight': None, 'intercept_scaling': 0.1, 'loss': 'squared_hinge', 'max_iter': 2000, 'tol': 1e-05}\n",
      "Accuracy: 0.775, {'C': 0.017, 'class_weight': None, 'intercept_scaling': 0.1, 'loss': 'squared_hinge', 'max_iter': 2000, 'tol': 5}\n",
      "Accuracy: 0.75, {'C': 0.017, 'class_weight': None, 'intercept_scaling': 0.1, 'loss': 'squared_hinge', 'max_iter': 2000, 'tol': 0.0005}\n",
      "Accuracy: 0.75, {'C': 0.017, 'class_weight': None, 'intercept_scaling': 0.1, 'loss': 'squared_hinge', 'max_iter': 2000, 'tol': 0.00015}\n",
      "Accuracy: 0.775, {'C': 0.017, 'class_weight': 'balanced', 'intercept_scaling': 0.5, 'loss': 'hinge', 'max_iter': 2000, 'tol': 1e-05}\n",
      "Accuracy: 0.775, {'C': 0.017, 'class_weight': 'balanced', 'intercept_scaling': 0.5, 'loss': 'hinge', 'max_iter': 2000, 'tol': 5}\n",
      "Accuracy: 0.775, {'C': 0.017, 'class_weight': 'balanced', 'intercept_scaling': 0.5, 'loss': 'hinge', 'max_iter': 2000, 'tol': 0.0005}\n",
      "Accuracy: 0.775, {'C': 0.017, 'class_weight': 'balanced', 'intercept_scaling': 0.5, 'loss': 'hinge', 'max_iter': 2000, 'tol': 0.00015}\n",
      "Accuracy: 0.775, {'C': 0.017, 'class_weight': 'balanced', 'intercept_scaling': 0.5, 'loss': 'squared_hinge', 'max_iter': 2000, 'tol': 1e-05}\n",
      "Accuracy: 0.775, {'C': 0.017, 'class_weight': 'balanced', 'intercept_scaling': 0.5, 'loss': 'squared_hinge', 'max_iter': 2000, 'tol': 5}\n",
      "Accuracy: 0.775, {'C': 0.017, 'class_weight': 'balanced', 'intercept_scaling': 0.5, 'loss': 'squared_hinge', 'max_iter': 2000, 'tol': 0.0005}\n",
      "Accuracy: 0.775, {'C': 0.017, 'class_weight': 'balanced', 'intercept_scaling': 0.5, 'loss': 'squared_hinge', 'max_iter': 2000, 'tol': 0.00015}\n",
      "Accuracy: 0.75, {'C': 0.017, 'class_weight': 'balanced', 'intercept_scaling': 0.05, 'loss': 'hinge', 'max_iter': 2000, 'tol': 1e-05}\n",
      "Accuracy: 0.75, {'C': 0.017, 'class_weight': 'balanced', 'intercept_scaling': 0.05, 'loss': 'hinge', 'max_iter': 2000, 'tol': 5}\n",
      "Accuracy: 0.75, {'C': 0.017, 'class_weight': 'balanced', 'intercept_scaling': 0.05, 'loss': 'hinge', 'max_iter': 2000, 'tol': 0.0005}\n",
      "Accuracy: 0.75, {'C': 0.017, 'class_weight': 'balanced', 'intercept_scaling': 0.05, 'loss': 'hinge', 'max_iter': 2000, 'tol': 0.00015}\n",
      "Accuracy: 0.75, {'C': 0.017, 'class_weight': 'balanced', 'intercept_scaling': 0.05, 'loss': 'squared_hinge', 'max_iter': 2000, 'tol': 1e-05}\n",
      "Accuracy: 0.775, {'C': 0.017, 'class_weight': 'balanced', 'intercept_scaling': 0.05, 'loss': 'squared_hinge', 'max_iter': 2000, 'tol': 5}\n",
      "Accuracy: 0.75, {'C': 0.017, 'class_weight': 'balanced', 'intercept_scaling': 0.05, 'loss': 'squared_hinge', 'max_iter': 2000, 'tol': 0.0005}\n",
      "Accuracy: 0.75, {'C': 0.017, 'class_weight': 'balanced', 'intercept_scaling': 0.05, 'loss': 'squared_hinge', 'max_iter': 2000, 'tol': 0.00015}\n",
      "Accuracy: 0.775, {'C': 0.017, 'class_weight': 'balanced', 'intercept_scaling': 1, 'loss': 'hinge', 'max_iter': 2000, 'tol': 1e-05}\n",
      "Accuracy: 0.775, {'C': 0.017, 'class_weight': 'balanced', 'intercept_scaling': 1, 'loss': 'hinge', 'max_iter': 2000, 'tol': 5}\n",
      "Accuracy: 0.775, {'C': 0.017, 'class_weight': 'balanced', 'intercept_scaling': 1, 'loss': 'hinge', 'max_iter': 2000, 'tol': 0.0005}\n",
      "Accuracy: 0.775, {'C': 0.017, 'class_weight': 'balanced', 'intercept_scaling': 1, 'loss': 'hinge', 'max_iter': 2000, 'tol': 0.00015}\n",
      "Accuracy: 0.775, {'C': 0.017, 'class_weight': 'balanced', 'intercept_scaling': 1, 'loss': 'squared_hinge', 'max_iter': 2000, 'tol': 1e-05}\n",
      "Accuracy: 0.775, {'C': 0.017, 'class_weight': 'balanced', 'intercept_scaling': 1, 'loss': 'squared_hinge', 'max_iter': 2000, 'tol': 5}\n",
      "Accuracy: 0.775, {'C': 0.017, 'class_weight': 'balanced', 'intercept_scaling': 1, 'loss': 'squared_hinge', 'max_iter': 2000, 'tol': 0.0005}\n",
      "Accuracy: 0.775, {'C': 0.017, 'class_weight': 'balanced', 'intercept_scaling': 1, 'loss': 'squared_hinge', 'max_iter': 2000, 'tol': 0.00015}\n",
      "Accuracy: 0.775, {'C': 0.017, 'class_weight': 'balanced', 'intercept_scaling': 5, 'loss': 'hinge', 'max_iter': 2000, 'tol': 1e-05}\n",
      "Accuracy: 0.75, {'C': 0.017, 'class_weight': 'balanced', 'intercept_scaling': 5, 'loss': 'hinge', 'max_iter': 2000, 'tol': 5}\n",
      "Accuracy: 0.775, {'C': 0.017, 'class_weight': 'balanced', 'intercept_scaling': 5, 'loss': 'hinge', 'max_iter': 2000, 'tol': 0.0005}\n",
      "Accuracy: 0.775, {'C': 0.017, 'class_weight': 'balanced', 'intercept_scaling': 5, 'loss': 'hinge', 'max_iter': 2000, 'tol': 0.00015}\n",
      "Accuracy: 0.775, {'C': 0.017, 'class_weight': 'balanced', 'intercept_scaling': 5, 'loss': 'squared_hinge', 'max_iter': 2000, 'tol': 1e-05}\n",
      "Accuracy: 0.775, {'C': 0.017, 'class_weight': 'balanced', 'intercept_scaling': 5, 'loss': 'squared_hinge', 'max_iter': 2000, 'tol': 5}\n",
      "Accuracy: 0.775, {'C': 0.017, 'class_weight': 'balanced', 'intercept_scaling': 5, 'loss': 'squared_hinge', 'max_iter': 2000, 'tol': 0.0005}\n",
      "Accuracy: 0.775, {'C': 0.017, 'class_weight': 'balanced', 'intercept_scaling': 5, 'loss': 'squared_hinge', 'max_iter': 2000, 'tol': 0.00015}\n",
      "Accuracy: 0.75, {'C': 0.017, 'class_weight': 'balanced', 'intercept_scaling': 0.005, 'loss': 'hinge', 'max_iter': 2000, 'tol': 1e-05}\n",
      "Accuracy: 0.75, {'C': 0.017, 'class_weight': 'balanced', 'intercept_scaling': 0.005, 'loss': 'hinge', 'max_iter': 2000, 'tol': 5}\n",
      "Accuracy: 0.75, {'C': 0.017, 'class_weight': 'balanced', 'intercept_scaling': 0.005, 'loss': 'hinge', 'max_iter': 2000, 'tol': 0.0005}\n",
      "Accuracy: 0.75, {'C': 0.017, 'class_weight': 'balanced', 'intercept_scaling': 0.005, 'loss': 'hinge', 'max_iter': 2000, 'tol': 0.00015}\n",
      "Accuracy: 0.75, {'C': 0.017, 'class_weight': 'balanced', 'intercept_scaling': 0.005, 'loss': 'squared_hinge', 'max_iter': 2000, 'tol': 1e-05}\n",
      "Accuracy: 0.775, {'C': 0.017, 'class_weight': 'balanced', 'intercept_scaling': 0.005, 'loss': 'squared_hinge', 'max_iter': 2000, 'tol': 5}\n",
      "Accuracy: 0.75, {'C': 0.017, 'class_weight': 'balanced', 'intercept_scaling': 0.005, 'loss': 'squared_hinge', 'max_iter': 2000, 'tol': 0.0005}\n",
      "Accuracy: 0.75, {'C': 0.017, 'class_weight': 'balanced', 'intercept_scaling': 0.005, 'loss': 'squared_hinge', 'max_iter': 2000, 'tol': 0.00015}\n",
      "Accuracy: 0.75, {'C': 0.017, 'class_weight': 'balanced', 'intercept_scaling': 0.0005, 'loss': 'hinge', 'max_iter': 2000, 'tol': 1e-05}\n",
      "Accuracy: 0.775, {'C': 0.017, 'class_weight': 'balanced', 'intercept_scaling': 0.0005, 'loss': 'hinge', 'max_iter': 2000, 'tol': 5}\n",
      "Accuracy: 0.75, {'C': 0.017, 'class_weight': 'balanced', 'intercept_scaling': 0.0005, 'loss': 'hinge', 'max_iter': 2000, 'tol': 0.0005}\n",
      "Accuracy: 0.75, {'C': 0.017, 'class_weight': 'balanced', 'intercept_scaling': 0.0005, 'loss': 'hinge', 'max_iter': 2000, 'tol': 0.00015}\n",
      "Accuracy: 0.75, {'C': 0.017, 'class_weight': 'balanced', 'intercept_scaling': 0.0005, 'loss': 'squared_hinge', 'max_iter': 2000, 'tol': 1e-05}\n",
      "Accuracy: 0.775, {'C': 0.017, 'class_weight': 'balanced', 'intercept_scaling': 0.0005, 'loss': 'squared_hinge', 'max_iter': 2000, 'tol': 5}\n",
      "Accuracy: 0.75, {'C': 0.017, 'class_weight': 'balanced', 'intercept_scaling': 0.0005, 'loss': 'squared_hinge', 'max_iter': 2000, 'tol': 0.0005}\n",
      "Accuracy: 0.75, {'C': 0.017, 'class_weight': 'balanced', 'intercept_scaling': 0.0005, 'loss': 'squared_hinge', 'max_iter': 2000, 'tol': 0.00015}\n",
      "Accuracy: 0.75, {'C': 0.017, 'class_weight': 'balanced', 'intercept_scaling': 0.1, 'loss': 'hinge', 'max_iter': 2000, 'tol': 1e-05}\n",
      "Accuracy: 0.75, {'C': 0.017, 'class_weight': 'balanced', 'intercept_scaling': 0.1, 'loss': 'hinge', 'max_iter': 2000, 'tol': 5}\n",
      "Accuracy: 0.75, {'C': 0.017, 'class_weight': 'balanced', 'intercept_scaling': 0.1, 'loss': 'hinge', 'max_iter': 2000, 'tol': 0.0005}\n",
      "Accuracy: 0.75, {'C': 0.017, 'class_weight': 'balanced', 'intercept_scaling': 0.1, 'loss': 'hinge', 'max_iter': 2000, 'tol': 0.00015}\n",
      "Accuracy: 0.75, {'C': 0.017, 'class_weight': 'balanced', 'intercept_scaling': 0.1, 'loss': 'squared_hinge', 'max_iter': 2000, 'tol': 1e-05}\n",
      "Accuracy: 0.775, {'C': 0.017, 'class_weight': 'balanced', 'intercept_scaling': 0.1, 'loss': 'squared_hinge', 'max_iter': 2000, 'tol': 5}\n",
      "Accuracy: 0.75, {'C': 0.017, 'class_weight': 'balanced', 'intercept_scaling': 0.1, 'loss': 'squared_hinge', 'max_iter': 2000, 'tol': 0.0005}\n",
      "Accuracy: 0.75, {'C': 0.017, 'class_weight': 'balanced', 'intercept_scaling': 0.1, 'loss': 'squared_hinge', 'max_iter': 2000, 'tol': 0.00015}\n",
      "Accuracy: 0.775, {'C': 0.01, 'class_weight': None, 'intercept_scaling': 0.5, 'loss': 'hinge', 'max_iter': 2000, 'tol': 1e-05}\n",
      "Accuracy: 0.775, {'C': 0.01, 'class_weight': None, 'intercept_scaling': 0.5, 'loss': 'hinge', 'max_iter': 2000, 'tol': 5}\n",
      "Accuracy: 0.775, {'C': 0.01, 'class_weight': None, 'intercept_scaling': 0.5, 'loss': 'hinge', 'max_iter': 2000, 'tol': 0.0005}\n",
      "Accuracy: 0.775, {'C': 0.01, 'class_weight': None, 'intercept_scaling': 0.5, 'loss': 'hinge', 'max_iter': 2000, 'tol': 0.00015}\n",
      "Accuracy: 0.775, {'C': 0.01, 'class_weight': None, 'intercept_scaling': 0.5, 'loss': 'squared_hinge', 'max_iter': 2000, 'tol': 1e-05}\n",
      "Accuracy: 0.775, {'C': 0.01, 'class_weight': None, 'intercept_scaling': 0.5, 'loss': 'squared_hinge', 'max_iter': 2000, 'tol': 5}\n",
      "Accuracy: 0.775, {'C': 0.01, 'class_weight': None, 'intercept_scaling': 0.5, 'loss': 'squared_hinge', 'max_iter': 2000, 'tol': 0.0005}\n",
      "Accuracy: 0.775, {'C': 0.01, 'class_weight': None, 'intercept_scaling': 0.5, 'loss': 'squared_hinge', 'max_iter': 2000, 'tol': 0.00015}\n",
      "Accuracy: 0.75, {'C': 0.01, 'class_weight': None, 'intercept_scaling': 0.05, 'loss': 'hinge', 'max_iter': 2000, 'tol': 1e-05}\n",
      "Accuracy: 0.75, {'C': 0.01, 'class_weight': None, 'intercept_scaling': 0.05, 'loss': 'hinge', 'max_iter': 2000, 'tol': 5}\n",
      "Accuracy: 0.75, {'C': 0.01, 'class_weight': None, 'intercept_scaling': 0.05, 'loss': 'hinge', 'max_iter': 2000, 'tol': 0.0005}\n",
      "Accuracy: 0.75, {'C': 0.01, 'class_weight': None, 'intercept_scaling': 0.05, 'loss': 'hinge', 'max_iter': 2000, 'tol': 0.00015}\n",
      "Accuracy: 0.75, {'C': 0.01, 'class_weight': None, 'intercept_scaling': 0.05, 'loss': 'squared_hinge', 'max_iter': 2000, 'tol': 1e-05}\n",
      "Accuracy: 0.775, {'C': 0.01, 'class_weight': None, 'intercept_scaling': 0.05, 'loss': 'squared_hinge', 'max_iter': 2000, 'tol': 5}\n",
      "Accuracy: 0.75, {'C': 0.01, 'class_weight': None, 'intercept_scaling': 0.05, 'loss': 'squared_hinge', 'max_iter': 2000, 'tol': 0.0005}\n",
      "Accuracy: 0.75, {'C': 0.01, 'class_weight': None, 'intercept_scaling': 0.05, 'loss': 'squared_hinge', 'max_iter': 2000, 'tol': 0.00015}\n",
      "Accuracy: 0.775, {'C': 0.01, 'class_weight': None, 'intercept_scaling': 1, 'loss': 'hinge', 'max_iter': 2000, 'tol': 1e-05}\n",
      "Accuracy: 0.8, {'C': 0.01, 'class_weight': None, 'intercept_scaling': 1, 'loss': 'hinge', 'max_iter': 2000, 'tol': 5}\n",
      "Accuracy: 0.775, {'C': 0.01, 'class_weight': None, 'intercept_scaling': 1, 'loss': 'hinge', 'max_iter': 2000, 'tol': 0.0005}\n",
      "Accuracy: 0.775, {'C': 0.01, 'class_weight': None, 'intercept_scaling': 1, 'loss': 'hinge', 'max_iter': 2000, 'tol': 0.00015}\n",
      "Accuracy: 0.775, {'C': 0.01, 'class_weight': None, 'intercept_scaling': 1, 'loss': 'squared_hinge', 'max_iter': 2000, 'tol': 1e-05}\n",
      "Accuracy: 0.775, {'C': 0.01, 'class_weight': None, 'intercept_scaling': 1, 'loss': 'squared_hinge', 'max_iter': 2000, 'tol': 5}\n",
      "Accuracy: 0.775, {'C': 0.01, 'class_weight': None, 'intercept_scaling': 1, 'loss': 'squared_hinge', 'max_iter': 2000, 'tol': 0.0005}\n",
      "Accuracy: 0.775, {'C': 0.01, 'class_weight': None, 'intercept_scaling': 1, 'loss': 'squared_hinge', 'max_iter': 2000, 'tol': 0.00015}\n",
      "Accuracy: 0.775, {'C': 0.01, 'class_weight': None, 'intercept_scaling': 5, 'loss': 'hinge', 'max_iter': 2000, 'tol': 1e-05}\n",
      "Accuracy: 0.775, {'C': 0.01, 'class_weight': None, 'intercept_scaling': 5, 'loss': 'hinge', 'max_iter': 2000, 'tol': 5}\n",
      "Accuracy: 0.775, {'C': 0.01, 'class_weight': None, 'intercept_scaling': 5, 'loss': 'hinge', 'max_iter': 2000, 'tol': 0.0005}\n",
      "Accuracy: 0.775, {'C': 0.01, 'class_weight': None, 'intercept_scaling': 5, 'loss': 'hinge', 'max_iter': 2000, 'tol': 0.00015}\n",
      "Accuracy: 0.775, {'C': 0.01, 'class_weight': None, 'intercept_scaling': 5, 'loss': 'squared_hinge', 'max_iter': 2000, 'tol': 1e-05}\n",
      "Accuracy: 0.75, {'C': 0.01, 'class_weight': None, 'intercept_scaling': 5, 'loss': 'squared_hinge', 'max_iter': 2000, 'tol': 5}\n",
      "Accuracy: 0.775, {'C': 0.01, 'class_weight': None, 'intercept_scaling': 5, 'loss': 'squared_hinge', 'max_iter': 2000, 'tol': 0.0005}\n",
      "Accuracy: 0.775, {'C': 0.01, 'class_weight': None, 'intercept_scaling': 5, 'loss': 'squared_hinge', 'max_iter': 2000, 'tol': 0.00015}\n",
      "Accuracy: 0.75, {'C': 0.01, 'class_weight': None, 'intercept_scaling': 0.005, 'loss': 'hinge', 'max_iter': 2000, 'tol': 1e-05}\n",
      "Accuracy: 0.75, {'C': 0.01, 'class_weight': None, 'intercept_scaling': 0.005, 'loss': 'hinge', 'max_iter': 2000, 'tol': 5}\n",
      "Accuracy: 0.75, {'C': 0.01, 'class_weight': None, 'intercept_scaling': 0.005, 'loss': 'hinge', 'max_iter': 2000, 'tol': 0.0005}\n",
      "Accuracy: 0.75, {'C': 0.01, 'class_weight': None, 'intercept_scaling': 0.005, 'loss': 'hinge', 'max_iter': 2000, 'tol': 0.00015}\n",
      "Accuracy: 0.75, {'C': 0.01, 'class_weight': None, 'intercept_scaling': 0.005, 'loss': 'squared_hinge', 'max_iter': 2000, 'tol': 1e-05}\n",
      "Accuracy: 0.775, {'C': 0.01, 'class_weight': None, 'intercept_scaling': 0.005, 'loss': 'squared_hinge', 'max_iter': 2000, 'tol': 5}\n",
      "Accuracy: 0.75, {'C': 0.01, 'class_weight': None, 'intercept_scaling': 0.005, 'loss': 'squared_hinge', 'max_iter': 2000, 'tol': 0.0005}\n",
      "Accuracy: 0.75, {'C': 0.01, 'class_weight': None, 'intercept_scaling': 0.005, 'loss': 'squared_hinge', 'max_iter': 2000, 'tol': 0.00015}\n",
      "Accuracy: 0.75, {'C': 0.01, 'class_weight': None, 'intercept_scaling': 0.0005, 'loss': 'hinge', 'max_iter': 2000, 'tol': 1e-05}\n",
      "Accuracy: 0.75, {'C': 0.01, 'class_weight': None, 'intercept_scaling': 0.0005, 'loss': 'hinge', 'max_iter': 2000, 'tol': 5}\n",
      "Accuracy: 0.75, {'C': 0.01, 'class_weight': None, 'intercept_scaling': 0.0005, 'loss': 'hinge', 'max_iter': 2000, 'tol': 0.0005}\n",
      "Accuracy: 0.75, {'C': 0.01, 'class_weight': None, 'intercept_scaling': 0.0005, 'loss': 'hinge', 'max_iter': 2000, 'tol': 0.00015}\n",
      "Accuracy: 0.75, {'C': 0.01, 'class_weight': None, 'intercept_scaling': 0.0005, 'loss': 'squared_hinge', 'max_iter': 2000, 'tol': 1e-05}\n",
      "Accuracy: 0.75, {'C': 0.01, 'class_weight': None, 'intercept_scaling': 0.0005, 'loss': 'squared_hinge', 'max_iter': 2000, 'tol': 5}\n",
      "Accuracy: 0.75, {'C': 0.01, 'class_weight': None, 'intercept_scaling': 0.0005, 'loss': 'squared_hinge', 'max_iter': 2000, 'tol': 0.0005}\n",
      "Accuracy: 0.75, {'C': 0.01, 'class_weight': None, 'intercept_scaling': 0.0005, 'loss': 'squared_hinge', 'max_iter': 2000, 'tol': 0.00015}\n",
      "Accuracy: 0.75, {'C': 0.01, 'class_weight': None, 'intercept_scaling': 0.1, 'loss': 'hinge', 'max_iter': 2000, 'tol': 1e-05}\n",
      "Accuracy: 0.75, {'C': 0.01, 'class_weight': None, 'intercept_scaling': 0.1, 'loss': 'hinge', 'max_iter': 2000, 'tol': 5}\n",
      "Accuracy: 0.75, {'C': 0.01, 'class_weight': None, 'intercept_scaling': 0.1, 'loss': 'hinge', 'max_iter': 2000, 'tol': 0.0005}\n",
      "Accuracy: 0.75, {'C': 0.01, 'class_weight': None, 'intercept_scaling': 0.1, 'loss': 'hinge', 'max_iter': 2000, 'tol': 0.00015}\n",
      "Accuracy: 0.75, {'C': 0.01, 'class_weight': None, 'intercept_scaling': 0.1, 'loss': 'squared_hinge', 'max_iter': 2000, 'tol': 1e-05}\n",
      "Accuracy: 0.775, {'C': 0.01, 'class_weight': None, 'intercept_scaling': 0.1, 'loss': 'squared_hinge', 'max_iter': 2000, 'tol': 5}\n",
      "Accuracy: 0.75, {'C': 0.01, 'class_weight': None, 'intercept_scaling': 0.1, 'loss': 'squared_hinge', 'max_iter': 2000, 'tol': 0.0005}\n",
      "Accuracy: 0.75, {'C': 0.01, 'class_weight': None, 'intercept_scaling': 0.1, 'loss': 'squared_hinge', 'max_iter': 2000, 'tol': 0.00015}\n",
      "Accuracy: 0.775, {'C': 0.01, 'class_weight': 'balanced', 'intercept_scaling': 0.5, 'loss': 'hinge', 'max_iter': 2000, 'tol': 1e-05}\n",
      "Accuracy: 0.75, {'C': 0.01, 'class_weight': 'balanced', 'intercept_scaling': 0.5, 'loss': 'hinge', 'max_iter': 2000, 'tol': 5}\n",
      "Accuracy: 0.775, {'C': 0.01, 'class_weight': 'balanced', 'intercept_scaling': 0.5, 'loss': 'hinge', 'max_iter': 2000, 'tol': 0.0005}\n",
      "Accuracy: 0.775, {'C': 0.01, 'class_weight': 'balanced', 'intercept_scaling': 0.5, 'loss': 'hinge', 'max_iter': 2000, 'tol': 0.00015}\n",
      "Accuracy: 0.775, {'C': 0.01, 'class_weight': 'balanced', 'intercept_scaling': 0.5, 'loss': 'squared_hinge', 'max_iter': 2000, 'tol': 1e-05}\n",
      "Accuracy: 0.775, {'C': 0.01, 'class_weight': 'balanced', 'intercept_scaling': 0.5, 'loss': 'squared_hinge', 'max_iter': 2000, 'tol': 5}\n",
      "Accuracy: 0.775, {'C': 0.01, 'class_weight': 'balanced', 'intercept_scaling': 0.5, 'loss': 'squared_hinge', 'max_iter': 2000, 'tol': 0.0005}\n",
      "Accuracy: 0.775, {'C': 0.01, 'class_weight': 'balanced', 'intercept_scaling': 0.5, 'loss': 'squared_hinge', 'max_iter': 2000, 'tol': 0.00015}\n",
      "Accuracy: 0.75, {'C': 0.01, 'class_weight': 'balanced', 'intercept_scaling': 0.05, 'loss': 'hinge', 'max_iter': 2000, 'tol': 1e-05}\n",
      "Accuracy: 0.75, {'C': 0.01, 'class_weight': 'balanced', 'intercept_scaling': 0.05, 'loss': 'hinge', 'max_iter': 2000, 'tol': 5}\n",
      "Accuracy: 0.75, {'C': 0.01, 'class_weight': 'balanced', 'intercept_scaling': 0.05, 'loss': 'hinge', 'max_iter': 2000, 'tol': 0.0005}\n",
      "Accuracy: 0.75, {'C': 0.01, 'class_weight': 'balanced', 'intercept_scaling': 0.05, 'loss': 'hinge', 'max_iter': 2000, 'tol': 0.00015}\n",
      "Accuracy: 0.75, {'C': 0.01, 'class_weight': 'balanced', 'intercept_scaling': 0.05, 'loss': 'squared_hinge', 'max_iter': 2000, 'tol': 1e-05}\n",
      "Accuracy: 0.775, {'C': 0.01, 'class_weight': 'balanced', 'intercept_scaling': 0.05, 'loss': 'squared_hinge', 'max_iter': 2000, 'tol': 5}\n",
      "Accuracy: 0.75, {'C': 0.01, 'class_weight': 'balanced', 'intercept_scaling': 0.05, 'loss': 'squared_hinge', 'max_iter': 2000, 'tol': 0.0005}\n",
      "Accuracy: 0.75, {'C': 0.01, 'class_weight': 'balanced', 'intercept_scaling': 0.05, 'loss': 'squared_hinge', 'max_iter': 2000, 'tol': 0.00015}\n",
      "Accuracy: 0.775, {'C': 0.01, 'class_weight': 'balanced', 'intercept_scaling': 1, 'loss': 'hinge', 'max_iter': 2000, 'tol': 1e-05}\n",
      "Accuracy: 0.775, {'C': 0.01, 'class_weight': 'balanced', 'intercept_scaling': 1, 'loss': 'hinge', 'max_iter': 2000, 'tol': 5}\n",
      "Accuracy: 0.775, {'C': 0.01, 'class_weight': 'balanced', 'intercept_scaling': 1, 'loss': 'hinge', 'max_iter': 2000, 'tol': 0.0005}\n",
      "Accuracy: 0.775, {'C': 0.01, 'class_weight': 'balanced', 'intercept_scaling': 1, 'loss': 'hinge', 'max_iter': 2000, 'tol': 0.00015}\n",
      "Accuracy: 0.775, {'C': 0.01, 'class_weight': 'balanced', 'intercept_scaling': 1, 'loss': 'squared_hinge', 'max_iter': 2000, 'tol': 1e-05}\n",
      "Accuracy: 0.775, {'C': 0.01, 'class_weight': 'balanced', 'intercept_scaling': 1, 'loss': 'squared_hinge', 'max_iter': 2000, 'tol': 5}\n",
      "Accuracy: 0.775, {'C': 0.01, 'class_weight': 'balanced', 'intercept_scaling': 1, 'loss': 'squared_hinge', 'max_iter': 2000, 'tol': 0.0005}\n",
      "Accuracy: 0.775, {'C': 0.01, 'class_weight': 'balanced', 'intercept_scaling': 1, 'loss': 'squared_hinge', 'max_iter': 2000, 'tol': 0.00015}\n",
      "Accuracy: 0.775, {'C': 0.01, 'class_weight': 'balanced', 'intercept_scaling': 5, 'loss': 'hinge', 'max_iter': 2000, 'tol': 1e-05}\n",
      "Accuracy: 0.75, {'C': 0.01, 'class_weight': 'balanced', 'intercept_scaling': 5, 'loss': 'hinge', 'max_iter': 2000, 'tol': 5}\n",
      "Accuracy: 0.775, {'C': 0.01, 'class_weight': 'balanced', 'intercept_scaling': 5, 'loss': 'hinge', 'max_iter': 2000, 'tol': 0.0005}\n",
      "Accuracy: 0.775, {'C': 0.01, 'class_weight': 'balanced', 'intercept_scaling': 5, 'loss': 'hinge', 'max_iter': 2000, 'tol': 0.00015}\n",
      "Accuracy: 0.775, {'C': 0.01, 'class_weight': 'balanced', 'intercept_scaling': 5, 'loss': 'squared_hinge', 'max_iter': 2000, 'tol': 1e-05}\n",
      "Accuracy: 0.8, {'C': 0.01, 'class_weight': 'balanced', 'intercept_scaling': 5, 'loss': 'squared_hinge', 'max_iter': 2000, 'tol': 5}\n",
      "Accuracy: 0.775, {'C': 0.01, 'class_weight': 'balanced', 'intercept_scaling': 5, 'loss': 'squared_hinge', 'max_iter': 2000, 'tol': 0.0005}\n",
      "Accuracy: 0.775, {'C': 0.01, 'class_weight': 'balanced', 'intercept_scaling': 5, 'loss': 'squared_hinge', 'max_iter': 2000, 'tol': 0.00015}\n",
      "Accuracy: 0.75, {'C': 0.01, 'class_weight': 'balanced', 'intercept_scaling': 0.005, 'loss': 'hinge', 'max_iter': 2000, 'tol': 1e-05}\n",
      "Accuracy: 0.75, {'C': 0.01, 'class_weight': 'balanced', 'intercept_scaling': 0.005, 'loss': 'hinge', 'max_iter': 2000, 'tol': 5}\n",
      "Accuracy: 0.75, {'C': 0.01, 'class_weight': 'balanced', 'intercept_scaling': 0.005, 'loss': 'hinge', 'max_iter': 2000, 'tol': 0.0005}\n",
      "Accuracy: 0.75, {'C': 0.01, 'class_weight': 'balanced', 'intercept_scaling': 0.005, 'loss': 'hinge', 'max_iter': 2000, 'tol': 0.00015}\n",
      "Accuracy: 0.75, {'C': 0.01, 'class_weight': 'balanced', 'intercept_scaling': 0.005, 'loss': 'squared_hinge', 'max_iter': 2000, 'tol': 1e-05}\n",
      "Accuracy: 0.775, {'C': 0.01, 'class_weight': 'balanced', 'intercept_scaling': 0.005, 'loss': 'squared_hinge', 'max_iter': 2000, 'tol': 5}\n",
      "Accuracy: 0.75, {'C': 0.01, 'class_weight': 'balanced', 'intercept_scaling': 0.005, 'loss': 'squared_hinge', 'max_iter': 2000, 'tol': 0.0005}\n",
      "Accuracy: 0.75, {'C': 0.01, 'class_weight': 'balanced', 'intercept_scaling': 0.005, 'loss': 'squared_hinge', 'max_iter': 2000, 'tol': 0.00015}\n",
      "Accuracy: 0.75, {'C': 0.01, 'class_weight': 'balanced', 'intercept_scaling': 0.0005, 'loss': 'hinge', 'max_iter': 2000, 'tol': 1e-05}\n",
      "Accuracy: 0.775, {'C': 0.01, 'class_weight': 'balanced', 'intercept_scaling': 0.0005, 'loss': 'hinge', 'max_iter': 2000, 'tol': 5}\n",
      "Accuracy: 0.75, {'C': 0.01, 'class_weight': 'balanced', 'intercept_scaling': 0.0005, 'loss': 'hinge', 'max_iter': 2000, 'tol': 0.0005}\n",
      "Accuracy: 0.75, {'C': 0.01, 'class_weight': 'balanced', 'intercept_scaling': 0.0005, 'loss': 'hinge', 'max_iter': 2000, 'tol': 0.00015}\n",
      "Accuracy: 0.75, {'C': 0.01, 'class_weight': 'balanced', 'intercept_scaling': 0.0005, 'loss': 'squared_hinge', 'max_iter': 2000, 'tol': 1e-05}\n",
      "Accuracy: 0.75, {'C': 0.01, 'class_weight': 'balanced', 'intercept_scaling': 0.0005, 'loss': 'squared_hinge', 'max_iter': 2000, 'tol': 5}\n",
      "Accuracy: 0.75, {'C': 0.01, 'class_weight': 'balanced', 'intercept_scaling': 0.0005, 'loss': 'squared_hinge', 'max_iter': 2000, 'tol': 0.0005}\n",
      "Accuracy: 0.75, {'C': 0.01, 'class_weight': 'balanced', 'intercept_scaling': 0.0005, 'loss': 'squared_hinge', 'max_iter': 2000, 'tol': 0.00015}\n",
      "Accuracy: 0.75, {'C': 0.01, 'class_weight': 'balanced', 'intercept_scaling': 0.1, 'loss': 'hinge', 'max_iter': 2000, 'tol': 1e-05}\n",
      "Accuracy: 0.75, {'C': 0.01, 'class_weight': 'balanced', 'intercept_scaling': 0.1, 'loss': 'hinge', 'max_iter': 2000, 'tol': 5}\n",
      "Accuracy: 0.75, {'C': 0.01, 'class_weight': 'balanced', 'intercept_scaling': 0.1, 'loss': 'hinge', 'max_iter': 2000, 'tol': 0.0005}\n",
      "Accuracy: 0.75, {'C': 0.01, 'class_weight': 'balanced', 'intercept_scaling': 0.1, 'loss': 'hinge', 'max_iter': 2000, 'tol': 0.00015}\n",
      "Accuracy: 0.75, {'C': 0.01, 'class_weight': 'balanced', 'intercept_scaling': 0.1, 'loss': 'squared_hinge', 'max_iter': 2000, 'tol': 1e-05}\n",
      "Accuracy: 0.775, {'C': 0.01, 'class_weight': 'balanced', 'intercept_scaling': 0.1, 'loss': 'squared_hinge', 'max_iter': 2000, 'tol': 5}\n",
      "Accuracy: 0.75, {'C': 0.01, 'class_weight': 'balanced', 'intercept_scaling': 0.1, 'loss': 'squared_hinge', 'max_iter': 2000, 'tol': 0.0005}\n",
      "Accuracy: 0.75, {'C': 0.01, 'class_weight': 'balanced', 'intercept_scaling': 0.1, 'loss': 'squared_hinge', 'max_iter': 2000, 'tol': 0.00015}\n",
      "Accuracy: 0.775, {'C': 0.02, 'class_weight': None, 'intercept_scaling': 0.5, 'loss': 'hinge', 'max_iter': 2000, 'tol': 1e-05}\n",
      "Accuracy: 0.775, {'C': 0.02, 'class_weight': None, 'intercept_scaling': 0.5, 'loss': 'hinge', 'max_iter': 2000, 'tol': 5}\n",
      "Accuracy: 0.775, {'C': 0.02, 'class_weight': None, 'intercept_scaling': 0.5, 'loss': 'hinge', 'max_iter': 2000, 'tol': 0.0005}\n",
      "Accuracy: 0.775, {'C': 0.02, 'class_weight': None, 'intercept_scaling': 0.5, 'loss': 'hinge', 'max_iter': 2000, 'tol': 0.00015}\n",
      "Accuracy: 0.775, {'C': 0.02, 'class_weight': None, 'intercept_scaling': 0.5, 'loss': 'squared_hinge', 'max_iter': 2000, 'tol': 1e-05}\n",
      "Accuracy: 0.775, {'C': 0.02, 'class_weight': None, 'intercept_scaling': 0.5, 'loss': 'squared_hinge', 'max_iter': 2000, 'tol': 5}\n",
      "Accuracy: 0.775, {'C': 0.02, 'class_weight': None, 'intercept_scaling': 0.5, 'loss': 'squared_hinge', 'max_iter': 2000, 'tol': 0.0005}\n",
      "Accuracy: 0.775, {'C': 0.02, 'class_weight': None, 'intercept_scaling': 0.5, 'loss': 'squared_hinge', 'max_iter': 2000, 'tol': 0.00015}\n",
      "Accuracy: 0.775, {'C': 0.02, 'class_weight': None, 'intercept_scaling': 0.05, 'loss': 'hinge', 'max_iter': 2000, 'tol': 1e-05}\n",
      "Accuracy: 0.775, {'C': 0.02, 'class_weight': None, 'intercept_scaling': 0.05, 'loss': 'hinge', 'max_iter': 2000, 'tol': 5}\n",
      "Accuracy: 0.775, {'C': 0.02, 'class_weight': None, 'intercept_scaling': 0.05, 'loss': 'hinge', 'max_iter': 2000, 'tol': 0.0005}\n",
      "Accuracy: 0.775, {'C': 0.02, 'class_weight': None, 'intercept_scaling': 0.05, 'loss': 'hinge', 'max_iter': 2000, 'tol': 0.00015}\n",
      "Accuracy: 0.75, {'C': 0.02, 'class_weight': None, 'intercept_scaling': 0.05, 'loss': 'squared_hinge', 'max_iter': 2000, 'tol': 1e-05}\n",
      "Accuracy: 0.775, {'C': 0.02, 'class_weight': None, 'intercept_scaling': 0.05, 'loss': 'squared_hinge', 'max_iter': 2000, 'tol': 5}\n",
      "Accuracy: 0.75, {'C': 0.02, 'class_weight': None, 'intercept_scaling': 0.05, 'loss': 'squared_hinge', 'max_iter': 2000, 'tol': 0.0005}\n",
      "Accuracy: 0.75, {'C': 0.02, 'class_weight': None, 'intercept_scaling': 0.05, 'loss': 'squared_hinge', 'max_iter': 2000, 'tol': 0.00015}\n",
      "Accuracy: 0.775, {'C': 0.02, 'class_weight': None, 'intercept_scaling': 1, 'loss': 'hinge', 'max_iter': 2000, 'tol': 1e-05}\n",
      "Accuracy: 0.775, {'C': 0.02, 'class_weight': None, 'intercept_scaling': 1, 'loss': 'hinge', 'max_iter': 2000, 'tol': 5}\n",
      "Accuracy: 0.775, {'C': 0.02, 'class_weight': None, 'intercept_scaling': 1, 'loss': 'hinge', 'max_iter': 2000, 'tol': 0.0005}\n",
      "Accuracy: 0.775, {'C': 0.02, 'class_weight': None, 'intercept_scaling': 1, 'loss': 'hinge', 'max_iter': 2000, 'tol': 0.00015}\n",
      "Accuracy: 0.775, {'C': 0.02, 'class_weight': None, 'intercept_scaling': 1, 'loss': 'squared_hinge', 'max_iter': 2000, 'tol': 1e-05}\n",
      "Accuracy: 0.775, {'C': 0.02, 'class_weight': None, 'intercept_scaling': 1, 'loss': 'squared_hinge', 'max_iter': 2000, 'tol': 5}\n",
      "Accuracy: 0.775, {'C': 0.02, 'class_weight': None, 'intercept_scaling': 1, 'loss': 'squared_hinge', 'max_iter': 2000, 'tol': 0.0005}\n",
      "Accuracy: 0.775, {'C': 0.02, 'class_weight': None, 'intercept_scaling': 1, 'loss': 'squared_hinge', 'max_iter': 2000, 'tol': 0.00015}\n",
      "Accuracy: 0.775, {'C': 0.02, 'class_weight': None, 'intercept_scaling': 5, 'loss': 'hinge', 'max_iter': 2000, 'tol': 1e-05}\n",
      "Accuracy: 0.75, {'C': 0.02, 'class_weight': None, 'intercept_scaling': 5, 'loss': 'hinge', 'max_iter': 2000, 'tol': 5}\n",
      "Accuracy: 0.775, {'C': 0.02, 'class_weight': None, 'intercept_scaling': 5, 'loss': 'hinge', 'max_iter': 2000, 'tol': 0.0005}\n",
      "Accuracy: 0.775, {'C': 0.02, 'class_weight': None, 'intercept_scaling': 5, 'loss': 'hinge', 'max_iter': 2000, 'tol': 0.00015}\n",
      "Accuracy: 0.775, {'C': 0.02, 'class_weight': None, 'intercept_scaling': 5, 'loss': 'squared_hinge', 'max_iter': 2000, 'tol': 1e-05}\n",
      "Accuracy: 0.775, {'C': 0.02, 'class_weight': None, 'intercept_scaling': 5, 'loss': 'squared_hinge', 'max_iter': 2000, 'tol': 5}\n",
      "Accuracy: 0.775, {'C': 0.02, 'class_weight': None, 'intercept_scaling': 5, 'loss': 'squared_hinge', 'max_iter': 2000, 'tol': 0.0005}\n",
      "Accuracy: 0.775, {'C': 0.02, 'class_weight': None, 'intercept_scaling': 5, 'loss': 'squared_hinge', 'max_iter': 2000, 'tol': 0.00015}\n",
      "Accuracy: 0.775, {'C': 0.02, 'class_weight': None, 'intercept_scaling': 0.005, 'loss': 'hinge', 'max_iter': 2000, 'tol': 1e-05}\n",
      "Accuracy: 0.775, {'C': 0.02, 'class_weight': None, 'intercept_scaling': 0.005, 'loss': 'hinge', 'max_iter': 2000, 'tol': 5}\n",
      "Accuracy: 0.775, {'C': 0.02, 'class_weight': None, 'intercept_scaling': 0.005, 'loss': 'hinge', 'max_iter': 2000, 'tol': 0.0005}\n",
      "Accuracy: 0.775, {'C': 0.02, 'class_weight': None, 'intercept_scaling': 0.005, 'loss': 'hinge', 'max_iter': 2000, 'tol': 0.00015}\n",
      "Accuracy: 0.75, {'C': 0.02, 'class_weight': None, 'intercept_scaling': 0.005, 'loss': 'squared_hinge', 'max_iter': 2000, 'tol': 1e-05}\n",
      "Accuracy: 0.75, {'C': 0.02, 'class_weight': None, 'intercept_scaling': 0.005, 'loss': 'squared_hinge', 'max_iter': 2000, 'tol': 5}\n",
      "Accuracy: 0.75, {'C': 0.02, 'class_weight': None, 'intercept_scaling': 0.005, 'loss': 'squared_hinge', 'max_iter': 2000, 'tol': 0.0005}\n",
      "Accuracy: 0.75, {'C': 0.02, 'class_weight': None, 'intercept_scaling': 0.005, 'loss': 'squared_hinge', 'max_iter': 2000, 'tol': 0.00015}\n",
      "Accuracy: 0.775, {'C': 0.02, 'class_weight': None, 'intercept_scaling': 0.0005, 'loss': 'hinge', 'max_iter': 2000, 'tol': 1e-05}\n",
      "Accuracy: 0.775, {'C': 0.02, 'class_weight': None, 'intercept_scaling': 0.0005, 'loss': 'hinge', 'max_iter': 2000, 'tol': 5}\n",
      "Accuracy: 0.775, {'C': 0.02, 'class_weight': None, 'intercept_scaling': 0.0005, 'loss': 'hinge', 'max_iter': 2000, 'tol': 0.0005}\n",
      "Accuracy: 0.775, {'C': 0.02, 'class_weight': None, 'intercept_scaling': 0.0005, 'loss': 'hinge', 'max_iter': 2000, 'tol': 0.00015}\n",
      "Accuracy: 0.75, {'C': 0.02, 'class_weight': None, 'intercept_scaling': 0.0005, 'loss': 'squared_hinge', 'max_iter': 2000, 'tol': 1e-05}\n",
      "Accuracy: 0.775, {'C': 0.02, 'class_weight': None, 'intercept_scaling': 0.0005, 'loss': 'squared_hinge', 'max_iter': 2000, 'tol': 5}\n",
      "Accuracy: 0.75, {'C': 0.02, 'class_weight': None, 'intercept_scaling': 0.0005, 'loss': 'squared_hinge', 'max_iter': 2000, 'tol': 0.0005}\n",
      "Accuracy: 0.75, {'C': 0.02, 'class_weight': None, 'intercept_scaling': 0.0005, 'loss': 'squared_hinge', 'max_iter': 2000, 'tol': 0.00015}\n",
      "Accuracy: 0.775, {'C': 0.02, 'class_weight': None, 'intercept_scaling': 0.1, 'loss': 'hinge', 'max_iter': 2000, 'tol': 1e-05}\n",
      "Accuracy: 0.775, {'C': 0.02, 'class_weight': None, 'intercept_scaling': 0.1, 'loss': 'hinge', 'max_iter': 2000, 'tol': 5}\n",
      "Accuracy: 0.775, {'C': 0.02, 'class_weight': None, 'intercept_scaling': 0.1, 'loss': 'hinge', 'max_iter': 2000, 'tol': 0.0005}\n",
      "Accuracy: 0.775, {'C': 0.02, 'class_weight': None, 'intercept_scaling': 0.1, 'loss': 'hinge', 'max_iter': 2000, 'tol': 0.00015}\n",
      "Accuracy: 0.75, {'C': 0.02, 'class_weight': None, 'intercept_scaling': 0.1, 'loss': 'squared_hinge', 'max_iter': 2000, 'tol': 1e-05}\n",
      "Accuracy: 0.775, {'C': 0.02, 'class_weight': None, 'intercept_scaling': 0.1, 'loss': 'squared_hinge', 'max_iter': 2000, 'tol': 5}\n",
      "Accuracy: 0.75, {'C': 0.02, 'class_weight': None, 'intercept_scaling': 0.1, 'loss': 'squared_hinge', 'max_iter': 2000, 'tol': 0.0005}\n",
      "Accuracy: 0.75, {'C': 0.02, 'class_weight': None, 'intercept_scaling': 0.1, 'loss': 'squared_hinge', 'max_iter': 2000, 'tol': 0.00015}\n",
      "Accuracy: 0.775, {'C': 0.02, 'class_weight': 'balanced', 'intercept_scaling': 0.5, 'loss': 'hinge', 'max_iter': 2000, 'tol': 1e-05}\n",
      "Accuracy: 0.775, {'C': 0.02, 'class_weight': 'balanced', 'intercept_scaling': 0.5, 'loss': 'hinge', 'max_iter': 2000, 'tol': 5}\n",
      "Accuracy: 0.775, {'C': 0.02, 'class_weight': 'balanced', 'intercept_scaling': 0.5, 'loss': 'hinge', 'max_iter': 2000, 'tol': 0.0005}\n",
      "Accuracy: 0.775, {'C': 0.02, 'class_weight': 'balanced', 'intercept_scaling': 0.5, 'loss': 'hinge', 'max_iter': 2000, 'tol': 0.00015}\n",
      "Accuracy: 0.775, {'C': 0.02, 'class_weight': 'balanced', 'intercept_scaling': 0.5, 'loss': 'squared_hinge', 'max_iter': 2000, 'tol': 1e-05}\n",
      "Accuracy: 0.75, {'C': 0.02, 'class_weight': 'balanced', 'intercept_scaling': 0.5, 'loss': 'squared_hinge', 'max_iter': 2000, 'tol': 5}\n",
      "Accuracy: 0.775, {'C': 0.02, 'class_weight': 'balanced', 'intercept_scaling': 0.5, 'loss': 'squared_hinge', 'max_iter': 2000, 'tol': 0.0005}\n",
      "Accuracy: 0.775, {'C': 0.02, 'class_weight': 'balanced', 'intercept_scaling': 0.5, 'loss': 'squared_hinge', 'max_iter': 2000, 'tol': 0.00015}\n",
      "Accuracy: 0.775, {'C': 0.02, 'class_weight': 'balanced', 'intercept_scaling': 0.05, 'loss': 'hinge', 'max_iter': 2000, 'tol': 1e-05}\n",
      "Accuracy: 0.775, {'C': 0.02, 'class_weight': 'balanced', 'intercept_scaling': 0.05, 'loss': 'hinge', 'max_iter': 2000, 'tol': 5}\n",
      "Accuracy: 0.775, {'C': 0.02, 'class_weight': 'balanced', 'intercept_scaling': 0.05, 'loss': 'hinge', 'max_iter': 2000, 'tol': 0.0005}\n",
      "Accuracy: 0.775, {'C': 0.02, 'class_weight': 'balanced', 'intercept_scaling': 0.05, 'loss': 'hinge', 'max_iter': 2000, 'tol': 0.00015}\n",
      "Accuracy: 0.75, {'C': 0.02, 'class_weight': 'balanced', 'intercept_scaling': 0.05, 'loss': 'squared_hinge', 'max_iter': 2000, 'tol': 1e-05}\n",
      "Accuracy: 0.775, {'C': 0.02, 'class_weight': 'balanced', 'intercept_scaling': 0.05, 'loss': 'squared_hinge', 'max_iter': 2000, 'tol': 5}\n",
      "Accuracy: 0.75, {'C': 0.02, 'class_weight': 'balanced', 'intercept_scaling': 0.05, 'loss': 'squared_hinge', 'max_iter': 2000, 'tol': 0.0005}\n",
      "Accuracy: 0.75, {'C': 0.02, 'class_weight': 'balanced', 'intercept_scaling': 0.05, 'loss': 'squared_hinge', 'max_iter': 2000, 'tol': 0.00015}\n",
      "Accuracy: 0.775, {'C': 0.02, 'class_weight': 'balanced', 'intercept_scaling': 1, 'loss': 'hinge', 'max_iter': 2000, 'tol': 1e-05}\n",
      "Accuracy: 0.775, {'C': 0.02, 'class_weight': 'balanced', 'intercept_scaling': 1, 'loss': 'hinge', 'max_iter': 2000, 'tol': 5}\n",
      "Accuracy: 0.775, {'C': 0.02, 'class_weight': 'balanced', 'intercept_scaling': 1, 'loss': 'hinge', 'max_iter': 2000, 'tol': 0.0005}\n",
      "Accuracy: 0.775, {'C': 0.02, 'class_weight': 'balanced', 'intercept_scaling': 1, 'loss': 'hinge', 'max_iter': 2000, 'tol': 0.00015}\n",
      "Accuracy: 0.775, {'C': 0.02, 'class_weight': 'balanced', 'intercept_scaling': 1, 'loss': 'squared_hinge', 'max_iter': 2000, 'tol': 1e-05}\n",
      "Accuracy: 0.775, {'C': 0.02, 'class_weight': 'balanced', 'intercept_scaling': 1, 'loss': 'squared_hinge', 'max_iter': 2000, 'tol': 5}\n",
      "Accuracy: 0.775, {'C': 0.02, 'class_weight': 'balanced', 'intercept_scaling': 1, 'loss': 'squared_hinge', 'max_iter': 2000, 'tol': 0.0005}\n",
      "Accuracy: 0.775, {'C': 0.02, 'class_weight': 'balanced', 'intercept_scaling': 1, 'loss': 'squared_hinge', 'max_iter': 2000, 'tol': 0.00015}\n",
      "Accuracy: 0.775, {'C': 0.02, 'class_weight': 'balanced', 'intercept_scaling': 5, 'loss': 'hinge', 'max_iter': 2000, 'tol': 1e-05}\n",
      "Accuracy: 0.775, {'C': 0.02, 'class_weight': 'balanced', 'intercept_scaling': 5, 'loss': 'hinge', 'max_iter': 2000, 'tol': 5}\n",
      "Accuracy: 0.775, {'C': 0.02, 'class_weight': 'balanced', 'intercept_scaling': 5, 'loss': 'hinge', 'max_iter': 2000, 'tol': 0.0005}\n",
      "Accuracy: 0.775, {'C': 0.02, 'class_weight': 'balanced', 'intercept_scaling': 5, 'loss': 'hinge', 'max_iter': 2000, 'tol': 0.00015}\n",
      "Accuracy: 0.775, {'C': 0.02, 'class_weight': 'balanced', 'intercept_scaling': 5, 'loss': 'squared_hinge', 'max_iter': 2000, 'tol': 1e-05}\n",
      "Accuracy: 0.75, {'C': 0.02, 'class_weight': 'balanced', 'intercept_scaling': 5, 'loss': 'squared_hinge', 'max_iter': 2000, 'tol': 5}\n",
      "Accuracy: 0.775, {'C': 0.02, 'class_weight': 'balanced', 'intercept_scaling': 5, 'loss': 'squared_hinge', 'max_iter': 2000, 'tol': 0.0005}\n",
      "Accuracy: 0.775, {'C': 0.02, 'class_weight': 'balanced', 'intercept_scaling': 5, 'loss': 'squared_hinge', 'max_iter': 2000, 'tol': 0.00015}\n",
      "Accuracy: 0.775, {'C': 0.02, 'class_weight': 'balanced', 'intercept_scaling': 0.005, 'loss': 'hinge', 'max_iter': 2000, 'tol': 1e-05}\n",
      "Accuracy: 0.775, {'C': 0.02, 'class_weight': 'balanced', 'intercept_scaling': 0.005, 'loss': 'hinge', 'max_iter': 2000, 'tol': 5}\n",
      "Accuracy: 0.775, {'C': 0.02, 'class_weight': 'balanced', 'intercept_scaling': 0.005, 'loss': 'hinge', 'max_iter': 2000, 'tol': 0.0005}\n",
      "Accuracy: 0.775, {'C': 0.02, 'class_weight': 'balanced', 'intercept_scaling': 0.005, 'loss': 'hinge', 'max_iter': 2000, 'tol': 0.00015}\n",
      "Accuracy: 0.75, {'C': 0.02, 'class_weight': 'balanced', 'intercept_scaling': 0.005, 'loss': 'squared_hinge', 'max_iter': 2000, 'tol': 1e-05}\n",
      "Accuracy: 0.775, {'C': 0.02, 'class_weight': 'balanced', 'intercept_scaling': 0.005, 'loss': 'squared_hinge', 'max_iter': 2000, 'tol': 5}\n",
      "Accuracy: 0.75, {'C': 0.02, 'class_weight': 'balanced', 'intercept_scaling': 0.005, 'loss': 'squared_hinge', 'max_iter': 2000, 'tol': 0.0005}\n",
      "Accuracy: 0.75, {'C': 0.02, 'class_weight': 'balanced', 'intercept_scaling': 0.005, 'loss': 'squared_hinge', 'max_iter': 2000, 'tol': 0.00015}\n",
      "Accuracy: 0.775, {'C': 0.02, 'class_weight': 'balanced', 'intercept_scaling': 0.0005, 'loss': 'hinge', 'max_iter': 2000, 'tol': 1e-05}\n",
      "Accuracy: 0.775, {'C': 0.02, 'class_weight': 'balanced', 'intercept_scaling': 0.0005, 'loss': 'hinge', 'max_iter': 2000, 'tol': 5}\n",
      "Accuracy: 0.775, {'C': 0.02, 'class_weight': 'balanced', 'intercept_scaling': 0.0005, 'loss': 'hinge', 'max_iter': 2000, 'tol': 0.0005}\n",
      "Accuracy: 0.775, {'C': 0.02, 'class_weight': 'balanced', 'intercept_scaling': 0.0005, 'loss': 'hinge', 'max_iter': 2000, 'tol': 0.00015}\n",
      "Accuracy: 0.75, {'C': 0.02, 'class_weight': 'balanced', 'intercept_scaling': 0.0005, 'loss': 'squared_hinge', 'max_iter': 2000, 'tol': 1e-05}\n",
      "Accuracy: 0.775, {'C': 0.02, 'class_weight': 'balanced', 'intercept_scaling': 0.0005, 'loss': 'squared_hinge', 'max_iter': 2000, 'tol': 5}\n",
      "Accuracy: 0.75, {'C': 0.02, 'class_weight': 'balanced', 'intercept_scaling': 0.0005, 'loss': 'squared_hinge', 'max_iter': 2000, 'tol': 0.0005}\n",
      "Accuracy: 0.75, {'C': 0.02, 'class_weight': 'balanced', 'intercept_scaling': 0.0005, 'loss': 'squared_hinge', 'max_iter': 2000, 'tol': 0.00015}\n",
      "Accuracy: 0.775, {'C': 0.02, 'class_weight': 'balanced', 'intercept_scaling': 0.1, 'loss': 'hinge', 'max_iter': 2000, 'tol': 1e-05}\n",
      "Accuracy: 0.775, {'C': 0.02, 'class_weight': 'balanced', 'intercept_scaling': 0.1, 'loss': 'hinge', 'max_iter': 2000, 'tol': 5}\n",
      "Accuracy: 0.775, {'C': 0.02, 'class_weight': 'balanced', 'intercept_scaling': 0.1, 'loss': 'hinge', 'max_iter': 2000, 'tol': 0.0005}\n",
      "Accuracy: 0.775, {'C': 0.02, 'class_weight': 'balanced', 'intercept_scaling': 0.1, 'loss': 'hinge', 'max_iter': 2000, 'tol': 0.00015}\n",
      "Accuracy: 0.75, {'C': 0.02, 'class_weight': 'balanced', 'intercept_scaling': 0.1, 'loss': 'squared_hinge', 'max_iter': 2000, 'tol': 1e-05}\n",
      "Accuracy: 0.775, {'C': 0.02, 'class_weight': 'balanced', 'intercept_scaling': 0.1, 'loss': 'squared_hinge', 'max_iter': 2000, 'tol': 5}\n",
      "Accuracy: 0.75, {'C': 0.02, 'class_weight': 'balanced', 'intercept_scaling': 0.1, 'loss': 'squared_hinge', 'max_iter': 2000, 'tol': 0.0005}\n",
      "Accuracy: 0.75, {'C': 0.02, 'class_weight': 'balanced', 'intercept_scaling': 0.1, 'loss': 'squared_hinge', 'max_iter': 2000, 'tol': 0.00015}\n"
     ]
    }
   ],
   "source": [
    "best_acc = 0\n",
    "for g in sklearn.model_selection.ParameterGrid(grid):\n",
    "    model = LinearSVC(**g)\n",
    "    model.fit(X_train_combo, Y_train)\n",
    "    predictions = model.predict(X_dev_combo)\n",
    "    accuracy = sklearn.metrics.accuracy_score(Y_dev, predictions)\n",
    "    print(f\"Accuracy: {accuracy}, {g}\")\n",
    "    if accuracy > best_acc:\n",
    "        best_acc = accuracy\n",
    "        best_grid = g"
   ],
   "metadata": {
    "collapsed": false,
    "pycharm": {
     "name": "#%%\n"
    }
   }
  }
 ],
 "metadata": {
  "kernelspec": {
   "display_name": "Python 3",
   "language": "python",
   "name": "python3"
  },
  "language_info": {
   "codemirror_mode": {
    "name": "ipython",
    "version": 2
   },
   "file_extension": ".py",
   "mimetype": "text/x-python",
   "name": "python",
   "nbconvert_exporter": "python",
   "pygments_lexer": "ipython2",
   "version": "2.7.6"
  }
 },
 "nbformat": 4,
 "nbformat_minor": 0
}